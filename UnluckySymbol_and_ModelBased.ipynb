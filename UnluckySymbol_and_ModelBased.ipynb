{
 "cells": [
  {
   "cell_type": "code",
   "execution_count": 6,
   "metadata": {},
   "outputs": [],
   "source": [
    "import random\n",
    "import pystan\n",
    "import matplotlib.pyplot as plt\n",
    "import seaborn as sns\n",
    "import pandas as pd\n",
    "import numpy as np\n",
    "import scipy as sp"
   ]
  },
  {
   "cell_type": "code",
   "execution_count": 7,
   "metadata": {},
   "outputs": [],
   "source": [
    "from numba import njit"
   ]
  },
  {
   "cell_type": "code",
   "execution_count": 8,
   "metadata": {},
   "outputs": [],
   "source": [
    "from rewards import Rewards"
   ]
  },
  {
   "cell_type": "code",
   "execution_count": 9,
   "metadata": {},
   "outputs": [],
   "source": [
    "Rs = Rewards"
   ]
  },
  {
   "cell_type": "code",
   "execution_count": 10,
   "metadata": {},
   "outputs": [
    {
     "data": {
      "text/plain": [
       "805"
      ]
     },
     "execution_count": 10,
     "metadata": {},
     "output_type": "execute_result"
    }
   ],
   "source": [
    "len(Rs)"
   ]
  },
  {
   "cell_type": "code",
   "execution_count": 11,
   "metadata": {},
   "outputs": [],
   "source": [
    "# from Sam Zorowitz code — add citation here!\n",
    "\n",
    "@njit\n",
    "def inv_logit(arr):\n",
    "    \"\"\"Fast inverse logistic function.\"\"\"\n",
    "    return 1. / (1. + np.exp(-arr))\n",
    "\n",
    "@njit\n",
    "def softmax(arr):\n",
    "    \"\"\"Scale-robust softmax function\"\"\"\n",
    "    arr = np.exp(arr - np.max(arr))\n",
    "    return arr / arr.sum()\n",
    "\n",
    "@njit\n",
    "def phi_approx(arr):\n",
    "    '''Elementwise fast approximation of the cumulative unit normal.'''\n",
    "    return inv_logit(0.07056 * arr ** 3 + 1.5976 * arr)"
   ]
  },
  {
   "cell_type": "code",
   "execution_count": 12,
   "metadata": {},
   "outputs": [],
   "source": [
    "# constants\n",
    "SA = 0\n",
    "SB = 1\n",
    "SC = 2"
   ]
  },
  {
   "cell_type": "code",
   "execution_count": 19,
   "metadata": {},
   "outputs": [],
   "source": [
    "class UnluckySymbol(object):\n",
    "    def __init__(self, trials, Rs, a, b, eta):\n",
    "        \n",
    "        self.n_trials = trials\n",
    "        \n",
    "        self.R = Rs\n",
    "        self.state = SA\n",
    "        \n",
    "        # define parameters\n",
    "        self.alpha = a\n",
    "        self.beta = b\n",
    "        self.eta = eta\n",
    "        \n",
    "        # define values\n",
    "        self.MB = np.zeros((2, 2))\n",
    "        \n",
    "        self.rewards = np.zeros(trials)\n",
    "        self.choices = np.zeros((trials, 2))\n",
    "        self.choice1_outcomes = np.zeros(trials)\n",
    "        self.switch = np.zeros(trials)\n",
    "        self.common = np.zeros(trials)\n",
    "        \n",
    "        self.transitions = np.array([\n",
    "            [0.7, 0.3],\n",
    "            [0.3, 0.7]\n",
    "        ])\n",
    "        \n",
    "        self.transition_count = np.zeros((2,2,2))\n",
    "        self.final_state = np.zeros(trials) # 1 = SB, 2 = SC\n",
    "        \n",
    "    def possible_switch(self, choice):\n",
    "        if random.random() < 0.7:\n",
    "            return choice\n",
    "        return 1 - choice\n",
    "    \n",
    "    def update_stay_prob(self, action, t):\n",
    "        self.transition_count[\n",
    "            int(not self.rewards[t-1]),\n",
    "            int(not self.common[t-1]),\n",
    "            int(not (self.choice1_outcomes[t-1] == action))\n",
    "        ] += 1\n",
    "        \n",
    "    def compute_stay_prob(self, transition_count):\n",
    "        # stay_prob[r,c,a] = P[r,c,a] / (P[r,c,a] + P[r,c,~a]) \n",
    "        action_count = transition_count.sum(axis=-1)\n",
    "        return transition_count / action_count[:, :, np.newaxis]\n",
    "\n",
    "    def train(self, R):\n",
    "        \n",
    "        for t in range(self.n_trials):\n",
    "            \n",
    "            self.state = SA\n",
    "            \n",
    "            ## Action selection.\n",
    "            d1 = 0.7*max(self.MB[1]) + 0.3*max(self.MB[0]) - self.eta*(0.3*max(self.MB[1]) + 0.7*max(self.MB[0]))\n",
    "            \n",
    "            # choice probabilities and making choice\n",
    "            theta1 = inv_logit( self.beta * d1 )\n",
    "            choice1 = np.random.binomial(1, theta1)\n",
    "            self.choices[t,0] = choice1\n",
    "            \n",
    "            # observe outcome and possible switch\n",
    "            outcome1 = self.possible_switch(choice1)\n",
    "            self.choice1_outcomes[t] = outcome1\n",
    "            \n",
    "            # update values for stay_probs\n",
    "            if t > 0:    \n",
    "                self.update_stay_prob(outcome1, t)\n",
    "            \n",
    "            reward_probs = None\n",
    "            # update state\n",
    "            if self.choice1_outcomes[t] == 0: # went LEFT\n",
    "                self.state = SB\n",
    "                self.final_state[t] = 1\n",
    "                reward_probs = self.R[t][0:2]\n",
    "            else: # went RIGHT\n",
    "                self.state = SC\n",
    "                self.final_state[t] = 2\n",
    "                reward_probs = self.R[t][2:4]\n",
    "            \n",
    "            # count possible switch\n",
    "            if (self.choices[t,0] == 1 & self.state == SB) | (self.choices[t,0] == 0 & self.state == SC):\n",
    "                self.switch[t] = 1\n",
    "            else:\n",
    "                self.common[t] = 1\n",
    "            \n",
    "            # possible value reduction\n",
    "            value_reduc = eta if (choice1 == 0) else 1\n",
    "            \n",
    "            # make second-level choice\n",
    "            d2 = value_reduc*self.beta*(self.MB[outcome1,1] - self.MB[outcome1,0])\n",
    "\n",
    "            theta2 = inv_logit( d2 )\n",
    "            choice2 = np.random.binomial(1, theta2)\n",
    "            self.choices[t,1] = choice2\n",
    "            \n",
    "            # get what the reward is\n",
    "            final_prob = reward_probs[choice2]\n",
    "            reward = np.random.binomial(1, final_prob)\n",
    "            self.rewards[t] = reward\n",
    "            \n",
    "            # update values\n",
    "            self.MB[outcome1, choice2] = (1 - self.alpha)*self.MB[outcome1, choice2] + self.alpha*self.rewards[t]\n",
    "\n",
    "            \n",
    "    def plot(self, transition_count=None, title=\"Unlucky Symbol: Two-Step Task\", y_lim=0.5):\n",
    "        _,ax = plt.subplots(1,1,figsize=[10,6])\n",
    "\n",
    "        ax.set_ylim([y_lim, 1.0])\n",
    "        ax.set_ylabel('Stay Probability')\n",
    "        ax.set_title(title)\n",
    "\n",
    "        if transition_count is None:\n",
    "            transition_count = self.transition_count\n",
    "        \n",
    "        stay_probs = self.compute_stay_prob(transition_count)\n",
    "        \n",
    "        common = [stay_probs[0,0,0], stay_probs[1,0,0]]\n",
    "        uncommon = [stay_probs[0,1,0], stay_probs[1,1,0]]\n",
    "        \n",
    "        ax.set_xticks([1.5,3.5])\n",
    "        ax.set_xticklabels(['Rewarded', 'Unrewarded'])\n",
    "        ax.set_ylim(0,1)\n",
    "        \n",
    "        c = plt.bar([1,3], common, color='b', width=0.5)\n",
    "        uc = plt.bar([2,4], uncommon, color='r', width=0.5)\n",
    "        ax.legend( (c[0], uc[0]), ('Common', 'Uncommon') )"
   ]
  },
  {
   "cell_type": "code",
   "execution_count": 20,
   "metadata": {},
   "outputs": [],
   "source": [
    "n_agents = 1\n",
    "trials = 400\n",
    "alpha = 0.5\n",
    "beta = 5.00\n",
    "eta  = 0.5 "
   ]
  },
  {
   "cell_type": "code",
   "execution_count": 21,
   "metadata": {},
   "outputs": [],
   "source": [
    "agents = UnluckySymbol(trials, Rs, alpha, beta, eta)"
   ]
  },
  {
   "cell_type": "code",
   "execution_count": 22,
   "metadata": {},
   "outputs": [],
   "source": [
    "np.random.seed(47404)"
   ]
  },
  {
   "cell_type": "code",
   "execution_count": 23,
   "metadata": {},
   "outputs": [],
   "source": [
    "Y = agents.train(Rs)"
   ]
  },
  {
   "cell_type": "code",
   "execution_count": 24,
   "metadata": {},
   "outputs": [
    {
     "data": {
      "text/plain": [
       "array([2., 2., 1., 2., 2., 2., 2., 2., 2., 2., 2., 1., 1., 2., 1., 2., 2.,\n",
       "       1., 2., 2., 2., 1., 1., 2., 1., 2., 1., 2., 2., 1., 1., 1., 1., 1.,\n",
       "       2., 2., 1., 1., 2., 2., 2., 1., 2., 2., 1., 2., 1., 2., 2., 1., 2.,\n",
       "       2., 1., 2., 2., 1., 1., 2., 2., 1., 2., 2., 2., 2., 1., 1., 2., 2.,\n",
       "       1., 2., 1., 2., 1., 2., 2., 2., 2., 2., 1., 1., 1., 2., 2., 2., 1.,\n",
       "       2., 2., 2., 1., 1., 2., 1., 2., 1., 2., 2., 2., 2., 2., 2., 2., 2.,\n",
       "       2., 2., 2., 1., 2., 1., 2., 2., 2., 1., 1., 1., 2., 1., 2., 1., 2.,\n",
       "       2., 2., 1., 2., 2., 1., 1., 1., 2., 2., 1., 1., 2., 1., 1., 2., 2.,\n",
       "       2., 1., 1., 2., 2., 2., 2., 2., 2., 1., 1., 2., 2., 2., 2., 1., 2.,\n",
       "       2., 2., 2., 1., 1., 2., 2., 2., 2., 1., 2., 1., 2., 2., 1., 2., 2.,\n",
       "       2., 2., 1., 2., 2., 2., 1., 1., 2., 2., 2., 1., 1., 1., 2., 1., 2.,\n",
       "       2., 2., 2., 2., 2., 1., 2., 1., 2., 2., 1., 2., 2., 2., 2., 1., 2.,\n",
       "       2., 1., 1., 1., 2., 2., 2., 2., 2., 2., 1., 1., 2., 2., 2., 1., 2.,\n",
       "       1., 2., 1., 2., 1., 2., 1., 2., 2., 2., 2., 1., 2., 2., 2., 2., 1.,\n",
       "       2., 2., 2., 1., 2., 2., 2., 2., 1., 1., 1., 1., 2., 2., 2., 2., 2.,\n",
       "       1., 1., 2., 2., 2., 2., 2., 2., 2., 2., 1., 1., 2., 2., 2., 2., 2.,\n",
       "       2., 2., 1., 1., 1., 1., 2., 2., 1., 2., 2., 2., 2., 2., 1., 1., 2.,\n",
       "       1., 1., 1., 2., 2., 2., 2., 2., 1., 2., 2., 1., 2., 2., 2., 1., 1.,\n",
       "       2., 1., 2., 2., 2., 1., 2., 1., 2., 1., 2., 1., 2., 2., 1., 1., 2.,\n",
       "       2., 1., 2., 1., 1., 1., 1., 2., 1., 1., 1., 1., 1., 1., 1., 1., 2.,\n",
       "       1., 2., 1., 1., 2., 2., 1., 2., 1., 2., 2., 2., 2., 2., 2., 2., 2.,\n",
       "       2., 1., 2., 2., 1., 2., 2., 1., 2., 1., 2., 2., 1., 1., 1., 2., 1.,\n",
       "       1., 2., 1., 2., 2., 1., 1., 1., 1., 2., 1., 2., 2., 2., 2., 1., 1.,\n",
       "       2., 2., 2., 2., 2., 2., 2., 2., 1.])"
      ]
     },
     "execution_count": 24,
     "metadata": {},
     "output_type": "execute_result"
    }
   ],
   "source": [
    "agents.final_state"
   ]
  },
  {
   "cell_type": "code",
   "execution_count": 25,
   "metadata": {},
   "outputs": [],
   "source": [
    "rew = agents.rewards"
   ]
  },
  {
   "cell_type": "code",
   "execution_count": 26,
   "metadata": {},
   "outputs": [],
   "source": [
    "rares = agents.switch"
   ]
  },
  {
   "cell_type": "code",
   "execution_count": 27,
   "metadata": {},
   "outputs": [],
   "source": [
    "commons = agents.common"
   ]
  },
  {
   "cell_type": "code",
   "execution_count": 28,
   "metadata": {},
   "outputs": [],
   "source": [
    "# looking for HIGHER STAY PROBABILITY:\n",
    "    # if common and was rewarded ()\n",
    "    # or uncommon and wasn't rewarded (switch, and no reward)\n",
    "\n",
    "com_rew = []\n",
    "com_unrew = []\n",
    "\n",
    "rare_unrew = []\n",
    "rare_rew = []\n",
    "    \n",
    "for i in range(trials):\n",
    "    if (commons[i] == 1):\n",
    "        com_rew.append(i) if (rew[i] == 1) else com_unrew.append(i)\n",
    "\n",
    "    if (rares[i] == 1):\n",
    "        rare_unrew.append(i) if (rew[i] == 0) else rare_rew.append(i)"
   ]
  },
  {
   "cell_type": "code",
   "execution_count": 29,
   "metadata": {},
   "outputs": [
    {
     "data": {
      "text/plain": [
       "135"
      ]
     },
     "execution_count": 29,
     "metadata": {},
     "output_type": "execute_result"
    }
   ],
   "source": [
    "len(com_rew)"
   ]
  },
  {
   "cell_type": "code",
   "execution_count": 30,
   "metadata": {},
   "outputs": [
    {
     "data": {
      "text/plain": [
       "54"
      ]
     },
     "execution_count": 30,
     "metadata": {},
     "output_type": "execute_result"
    }
   ],
   "source": [
    "len(rare_unrew)"
   ]
  },
  {
   "cell_type": "code",
   "execution_count": 31,
   "metadata": {},
   "outputs": [
    {
     "data": {
      "text/plain": [
       "35"
      ]
     },
     "execution_count": 31,
     "metadata": {},
     "output_type": "execute_result"
    }
   ],
   "source": [
    "len(rare_rew)"
   ]
  },
  {
   "cell_type": "code",
   "execution_count": 32,
   "metadata": {},
   "outputs": [
    {
     "data": {
      "text/plain": [
       "176"
      ]
     },
     "execution_count": 32,
     "metadata": {},
     "output_type": "execute_result"
    }
   ],
   "source": [
    "len(com_unrew)"
   ]
  },
  {
   "cell_type": "code",
   "execution_count": 33,
   "metadata": {},
   "outputs": [
    {
     "data": {
      "image/png": "[encoded data removed]",
      "text/plain": [
       "<Figure size 720x432 with 1 Axes>"
      ]
     },
     "metadata": {
      "needs_background": "light"
     },
     "output_type": "display_data"
    }
   ],
   "source": [
    "agents.plot()"
   ]
  },
  {
   "cell_type": "code",
   "execution_count": null,
   "metadata": {},
   "outputs": [],
   "source": []
  },
  {
   "cell_type": "markdown",
   "metadata": {},
   "source": [
    "### [EDIT] Sam Notes\n",
    "\n",
    "In this cell, I'll review the equations for the model-based agent, originally defined in the [supplement of Daw et al (2011)](https://ars.els-cdn.com/content/image/1-s2.0-S0896627311001255-mmc1.pdf). \n",
    "\n",
    "#### Stage 2 Choice\n",
    "\n",
    "In stage 2, the agent makes a choice between two actions, $Q(s_i, a_1)$ and $Q(s_i,a_2$), conditioned on the current state. As discussed in [Daw (2011)](https://pdfs.semanticscholar.org/43c3/d7653710bbb477df108fc2ed2729429d053c.pdf), in the case of two options, the softmax reduces to the [inverse logit function](https://en.wikipedia.org/wiki/Logistic_function). Thus, the probability of the agent taking action 1 is:\n",
    "\n",
    "$$ p( a_1 \\mid s_i, \\beta_2 ) = \\text{logit}^{-1} \\left( \\beta_2 \\cdot [Q(s_i, a_1) - Q(s_i, a_2)] \\right) = \\frac{1}{1 + \\exp \\left(-\\beta_2 \\cdot [Q(s_i, a_1) - Q(s_i, a_2)] \\right)} $$\n",
    "\n",
    "Note that the action probability is a function of a choice sensitivity (inverse temperature) parameter, $\\beta_2$. The subscript indicates that this parameter is specific to the second stage. As you will see below, we introduce a separate choice sensitivity parameter for first stage choice (even though we typically set these to the same value).\n",
    "\n",
    "#### Stage 2 Learning\n",
    "\n",
    "In stage 2, following a choice, the agent updates its expectations of the value of the chosen action, $Q(s_{i,t+1} a_{i,t+1})$, based on the observed reward, $r_t$. This update folows temporal difference learning:\n",
    "\n",
    "$$ Q(s_{i,t+1} a_{i,t+1}) = Q(s_{i,t}, a_{i,t}) + \\eta_2 \\delta_t $$\n",
    "\n",
    "where $\\delta_t$ is the reward prediction error on trial $t$, defined as:\n",
    "\n",
    "$$ \\delta_t = r_t - Q(s_{i,t}, a_{i,t}) $$\n",
    "\n",
    "Two notes here:\n",
    "\n",
    "1. We introduce the trial $t$ notation here to denote that learning updates affect behavior on the next trial.\n",
    "2. We introduce the stage notation here for learning rate to indicate that this parameter is specific to stage 2.\n",
    "\n",
    "#### Stage 1 Choice\n",
    "\n",
    "Now here's the complicated part. We make two assumptions about the model-based agent:\n",
    "\n",
    "1. The agent recomputes the value of each stage 1 action based on its current estimates of the value of the second stage choices at the start of each trial.\n",
    "2. The agent performs this computation assuming an *off-policy* strategy (i.e. assuming it will take the best action at any successor state).\n",
    "\n",
    "Following Bellman's equation, the model-based agent computes the value of each first stage action taking into consideration the state-transition probaiblities, $T(s' \\mid s_1, a_i)$, and value of the best action in each successor state. \n",
    "\n",
    "For notational convenience, let's define the transition probabilities as:\n",
    "- $ p( s_2 \\mid s_1, a_1) = 0.7 $, i.e. 70% probability of ending up in State 2 given Action 1 in State 1\n",
    "- $ p( s_3 \\mid s_1, a_1) = 0.3 $, i.e. 30% probability of ending up in State 3 given Action 1 in State 1\n",
    "- $ p( s_2 \\mid s_1, a_2) = 0.3 $, i.e. 30% probability of ending up in State 2 given Action 2 in State 1\n",
    "- $ p( s_3 \\mid s_1, a_2) = 0.7 $, i.e. 70% probability of ending up in State 3 given Action 2 in State 1\n",
    "\n",
    "Then we can define the value of action 1 in stage 1 as:\n",
    "\n",
    "$$ Q(s_1, a_1) = p( s_2 \\mid s_1, a_1) \\cdot \\max Q(s_2, a) + p( s_3 \\mid s_1, a_1) \\cdot \\max Q(s_3, a) $$\n",
    "$$ = 0.7 \\cdot \\max Q(s_2, a) + 0.3 \\cdot \\max Q(s_3, a) $$\n",
    "\n",
    "and the value of action 2 in stage 1 as:\n",
    "\n",
    "$$ Q(s_1, a_2) = p( s_2 \\mid s_1, a_2) \\cdot \\max Q(s_2, a) + p( s_3 \\mid s_1, a_2) \\cdot \\max Q(s_3, a) $$\n",
    "$$ = 0.3 \\cdot \\max Q(s_2, a) + 0.7 \\cdot \\max Q(s_3, a) $$\n",
    "\n",
    "And finally, we use the inverse logit function to assign probabilities of taking either action 1 vs. action 2 in stage 1:\n",
    "\n",
    "$$ p( a_1 \\mid s_1, \\beta_1 ) = \\text{logit}^{-1} \\left( \\beta_1 \\cdot [Q(s_1, a_1) - Q(s_1, a_2)] \\right) = \\frac{1}{1 + \\exp \\left(-\\beta_1 \\cdot [Q(s_1, a_1) - Q(s_1, a_2)] \\right)} $$\n",
    "\n",
    "\n",
    "Note that the action probability is a function of a separate choice sensitivity (inverse temperature) parameter, $\\beta_1$. The subscript indicates that this parameter is specific to the first stage. As noted above, we typically set the value of choice sensitivity for both stages, $\\beta_1$ and $\\beta_2$, to be the same but they don't have to be!"
   ]
  },
  {
   "cell_type": "code",
   "execution_count": 94,
   "metadata": {},
   "outputs": [],
   "source": [
    "# Model-Based Strategy\n",
    "\n",
    "class model_based(object):\n",
    "    def __init__(self, trials, Rs, a, b1, b2=None):\n",
    "        \n",
    "        self.n_trials = trials\n",
    " \n",
    "        self.R = Rs\n",
    "        self.state = SA\n",
    "        \n",
    "        # define parameters\n",
    "        self.alpha = a\n",
    "        self.beta1 = b1\n",
    "        \n",
    "        if b2 == None:\n",
    "            self.beta2 = b1\n",
    "        else:\n",
    "            self.beta2 = b2\n",
    "        \n",
    "        # define values\n",
    "        self.MB = np.zeros((2, 2))\n",
    "        \n",
    "        self.rewards = np.zeros(trials)\n",
    "        self.choices = np.zeros((trials, 2))\n",
    "        self.choice1_outcomes = np.zeros(trials)\n",
    "        self.switch = np.zeros(trials)\n",
    "        self.common = np.zeros(trials)\n",
    "        \n",
    "        self.transitions = np.array([\n",
    "            [0.7, 0.3],\n",
    "            [0.3, 0.7]\n",
    "        ])\n",
    "        \n",
    "        self.transition_count = np.zeros((2,2,2))\n",
    "        self.final_state = np.zeros(trials) # 1 = SB, 2 = SC\n",
    "        \n",
    "    def possible_switch(self, choice):\n",
    "        if random.random() < 0.7:\n",
    "            return choice\n",
    "        return 1 - choice\n",
    "    \n",
    "    def update_stay_prob(self, action, t):\n",
    "        self.transition_count[\n",
    "            int(not self.rewards[t-1]),\n",
    "            int(not self.common[t-1]),\n",
    "            int(not (self.choice1_outcomes[t-1] == action))\n",
    "        ] += 1\n",
    "        \n",
    "    def compute_stay_prob(self, transition_count):\n",
    "        # stay_prob[r,c,a] = P[r,c,a] / (P[r,c,a] + P[r,c,~a]) \n",
    "        action_count = transition_count.sum(axis=-1)\n",
    "        return transition_count / action_count[:, :, np.newaxis]\n",
    "\n",
    "    def train(self, R):\n",
    "        \n",
    "        for t in range(self.n_trials):\n",
    "            \n",
    "            self.state = SA\n",
    "            \n",
    "            ## Action selection.\n",
    "            v1 = 0.7*max(self.MB[0]) + 0.3*max(self.MB[1])\n",
    "            v2 = 0.3*max(self.MB[0]) + 0.7*max(self.MB[1])\n",
    "\n",
    "            # choice probabilities and making choice\n",
    "            theta1 = inv_logit( self.beta1 * (v1 - v2) )\n",
    "            choice1 = np.random.binomial(1, theta1)\n",
    "            self.choices[t,0] = choice1\n",
    "            \n",
    "            # observe outcome and possible switch\n",
    "            outcome1 = self.possible_switch(choice1)\n",
    "            self.choice1_outcomes[t] = outcome1\n",
    "            \n",
    "            # update values for stay_probs\n",
    "            if t > 0:    \n",
    "                self.update_stay_prob(outcome1, t)\n",
    "            \n",
    "            reward_probs = None\n",
    "            # update state\n",
    "            if self.choice1_outcomes[t] == 0: # went LEFT\n",
    "                self.state = SB\n",
    "                self.final_state[t] = 1\n",
    "                reward_probs = self.R[t][0:2]\n",
    "            else: # went RIGHT\n",
    "                self.state = SC\n",
    "                self.final_state[t] = 2\n",
    "                reward_probs = self.R[t][2:4]\n",
    "            \n",
    "            # count possible switch\n",
    "            if (self.choices[t,0] == 1 & self.state == SB) | (self.choices[t,0] == 0 & self.state == SC):\n",
    "                self.switch[t] = 1\n",
    "            else:\n",
    "                self.common[t] = 1\n",
    "            \n",
    "            # make second-level choice\n",
    "            d2 = self.MB[outcome1,0] - self.MB[outcome1,1]\n",
    "\n",
    "            theta2 = inv_logit( self.beta2 * d2 )\n",
    "            choice2 = np.random.binomial(1, theta2)\n",
    "            self.choices[t,1] = choice2\n",
    "            \n",
    "            # get what the reward is\n",
    "            final_prob = reward_probs[choice2]\n",
    "            reward = np.random.binomial(1, final_prob)\n",
    "            self.rewards[t] = reward\n",
    "            \n",
    "            # update values\n",
    "            # update level 2 MB value\n",
    "            self.MB[outcome1, choice2] += self.alpha*(self.rewards[t] - self.MB[outcome1, choice2])\n",
    "            \n",
    "    def plot(self, transition_count=None, title=\"Model-Based Two-Step Task\", y_lim=0.5):\n",
    "        _,ax = plt.subplots(1,1,figsize=[10,6])\n",
    "\n",
    "        ax.set_ylim([y_lim, 1.0])\n",
    "        ax.set_ylabel('Stay Probability')\n",
    "        ax.set_title(title)\n",
    "\n",
    "        if transition_count is None:\n",
    "            transition_count = self.transition_count\n",
    "        \n",
    "        stay_probs = self.compute_stay_prob(transition_count)\n",
    "        \n",
    "        common = [stay_probs[0,0,0], stay_probs[1,0,0]]\n",
    "        uncommon = [stay_probs[0,1,0], stay_probs[1,1,0]]\n",
    "        \n",
    "        ax.set_xticks([1.5,3.5])\n",
    "        ax.set_xticklabels(['Rewarded', 'Unrewarded'])\n",
    "        ax.set_ylim(0,1)\n",
    "        \n",
    "        c = plt.bar([1,3], common, color='b', width=0.5)\n",
    "        uc = plt.bar([2,4], uncommon, color='r', width=0.5)\n",
    "        ax.legend( (c[0], uc[0]), ('Common', 'Uncommon') )\n"
   ]
  },
  {
   "cell_type": "code",
   "execution_count": 95,
   "metadata": {},
   "outputs": [],
   "source": [
    "n_agents = 1\n",
    "trials = 400\n",
    "alpha = 0.5\n",
    "beta = 10.00"
   ]
  },
  {
   "cell_type": "code",
   "execution_count": 96,
   "metadata": {},
   "outputs": [],
   "source": [
    "np.random.seed(11408)\n",
    "agents_MB = model_based(trials, Rs, alpha, beta)"
   ]
  },
  {
   "cell_type": "code",
   "execution_count": 97,
   "metadata": {},
   "outputs": [],
   "source": [
    "MBtrained = agents_MB.train(Rs)"
   ]
  },
  {
   "cell_type": "code",
   "execution_count": 98,
   "metadata": {},
   "outputs": [
    {
     "data": {
      "image/png": "[encoded data removed]",
      "text/plain": [
       "<Figure size 720x432 with 1 Axes>"
      ]
     },
     "metadata": {
      "needs_background": "light"
     },
     "output_type": "display_data"
    }
   ],
   "source": [
    "agents_MB.plot()"
   ]
  },
  {
   "cell_type": "code",
   "execution_count": 80,
   "metadata": {},
   "outputs": [],
   "source": [
    "class StayProbabilitiesCalculator:\n",
    "    \"\"\"Helper class for the stay probabilities.\"\"\"\n",
    "    def __init__(self):\n",
    "        self.prev_reward = None\n",
    "        self.prev_transition = None\n",
    "        self.prev_choice = None\n",
    "        self.stay = [(0, 0) for _ in range(4)]\n",
    "    def add_trial_info(self, choice1, fstate, _, reward):\n",
    "        if self.prev_choice is not None:\n",
    "            indx = 2*self.prev_reward + self.prev_transition\n",
    "            num, den = self.stay[indx]\n",
    "            self.stay[indx] = (num + int(self.prev_choice == choice1), den + 1)\n",
    "        self.prev_reward = reward\n",
    "        self.prev_transition = int(choice1 == fstate)\n",
    "        self.prev_choice = choice1\n",
    "    def get_stay_prob(self, reward, transition):\n",
    "        num, den = self.stay[2*reward + transition]\n",
    "        return num/den"
   ]
  },
  {
   "cell_type": "code",
   "execution_count": 82,
   "metadata": {},
   "outputs": [],
   "source": [
    "spc = StayProbabilitiesCalculator()"
   ]
  },
  {
   "cell_type": "code",
   "execution_count": 88,
   "metadata": {},
   "outputs": [],
   "source": [
    "choice1 = agents_MB.choices[:,0]\n",
    "fstate = agents_MB.choice1_outcomes\n",
    "choice2 = agents_MB.choices[:,1]\n",
    "reward= agents_MB.rewards"
   ]
  },
  {
   "cell_type": "code",
   "execution_count": null,
   "metadata": {},
   "outputs": [],
   "source": []
  },
  {
   "cell_type": "code",
   "execution_count": null,
   "metadata": {},
   "outputs": [],
   "source": []
  },
  {
   "cell_type": "code",
   "execution_count": null,
   "metadata": {},
   "outputs": [],
   "source": []
  },
  {
   "cell_type": "code",
   "execution_count": null,
   "metadata": {},
   "outputs": [],
   "source": []
  },
  {
   "cell_type": "code",
   "execution_count": null,
   "metadata": {},
   "outputs": [],
   "source": []
  },
  {
   "cell_type": "code",
   "execution_count": null,
   "metadata": {},
   "outputs": [],
   "source": []
  },
  {
   "cell_type": "code",
   "execution_count": 420,
   "metadata": {},
   "outputs": [],
   "source": [
    "# THIS IS WRONG!! —— something wrong here with the way that you are coding the task . . . "
   ]
  },
  {
   "cell_type": "code",
   "execution_count": null,
   "metadata": {},
   "outputs": [],
   "source": []
  },
  {
   "cell_type": "code",
   "execution_count": 410,
   "metadata": {},
   "outputs": [],
   "source": [
    "# would this be better if we used two betas, one for each stage, like Daw and Toyama did?\n",
    "# is this the right way to calculate Stay Probabilities? This seems low when you look at the graph . . . "
   ]
  },
  {
   "cell_type": "code",
   "execution_count": null,
   "metadata": {},
   "outputs": [],
   "source": []
  }
 ],
 "metadata": {
  "kernelspec": {
   "display_name": "Python 3",
   "language": "python",
   "name": "python3"
  },
  "language_info": {
   "codemirror_mode": {
    "name": "ipython",
    "version": 3
   },
   "file_extension": ".py",
   "mimetype": "text/x-python",
   "name": "python",
   "nbconvert_exporter": "python",
   "pygments_lexer": "ipython3",
   "version": "3.7.4"
  }
 },
 "nbformat": 4,
 "nbformat_minor": 4
}
