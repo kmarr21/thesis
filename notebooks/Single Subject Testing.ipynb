{
 "cells": [
  {
   "cell_type": "code",
   "execution_count": 1,
   "metadata": {},
   "outputs": [],
   "source": [
    "import h5py, os, pystan\n",
    "import numpy as np\n",
    "from os.path import dirname\n",
    "import pandas as pd\n",
    "from pandas import DataFrame, read_csv, concat\n",
    "import matplotlib.pyplot as plt\n",
    "import seaborn as sns\n",
    "import scipy as sp"
   ]
  },
  {
   "cell_type": "code",
   "execution_count": 120,
   "metadata": {},
   "outputs": [],
   "source": [
    "df = pd.read_csv('two_step_data.txt')"
   ]
  },
  {
   "cell_type": "code",
   "execution_count": 121,
   "metadata": {},
   "outputs": [
    {
     "name": "stdout",
     "output_type": "stream",
     "text": [
      "                               subject  trial  drift_1  drift_2  drift_3  \\\n",
      "0       3018Q3ZVOIQGSXZ9L4SKHNWWZ1CRAO      1    0.743    0.273    0.717   \n",
      "1       3018Q3ZVOIQGSXZ9L4SKHNWWZ1CRAO      2    0.714    0.290    0.712   \n",
      "2       3018Q3ZVOIQGSXZ9L4SKHNWWZ1CRAO      3    0.709    0.346    0.714   \n",
      "3       3018Q3ZVOIQGSXZ9L4SKHNWWZ1CRAO      4    0.732    0.339    0.704   \n",
      "4       3018Q3ZVOIQGSXZ9L4SKHNWWZ1CRAO      5    0.717    0.408    0.722   \n",
      "...                                ...    ...      ...      ...      ...   \n",
      "341994  3ZY8KE4ISJ308KN7JKUG8K04OS9VQW    196    0.384    0.712    0.479   \n",
      "341995  3ZY8KE4ISJ308KN7JKUG8K04OS9VQW    197    0.373    0.734    0.460   \n",
      "341996  3ZY8KE4ISJ308KN7JKUG8K04OS9VQW    198    0.440    0.748    0.461   \n",
      "341997  3ZY8KE4ISJ308KN7JKUG8K04OS9VQW    199    0.471    0.737    0.468   \n",
      "341998  3ZY8KE4ISJ308KN7JKUG8K04OS9VQW    200    0.487    0.736    0.447   \n",
      "\n",
      "        drift_4  stage_1_choice  stage_1_rt  transition  stage_2_choice  \\\n",
      "0         0.479             NaN         NaN         NaN             NaN   \n",
      "1         0.456             1.0       0.444         1.0             1.0   \n",
      "2         0.466             1.0       0.459         0.0             1.0   \n",
      "3         0.386             1.0       0.409         1.0             1.0   \n",
      "4         0.422             1.0       0.356         1.0             1.0   \n",
      "...         ...             ...         ...         ...             ...   \n",
      "341994    0.387             1.0       0.449         0.0             1.0   \n",
      "341995    0.375             1.0       0.132         1.0             1.0   \n",
      "341996    0.410             1.0       0.838         0.0             1.0   \n",
      "341997    0.375             1.0       0.406         0.0             1.0   \n",
      "341998    0.403             2.0       0.510         1.0             2.0   \n",
      "\n",
      "        stage_2_state  stage_2_rt  outcome  \n",
      "0                 NaN         NaN      NaN  \n",
      "1                 2.0       1.566      1.0  \n",
      "2                 3.0       0.669      1.0  \n",
      "3                 2.0       0.491      1.0  \n",
      "4                 2.0       0.574      1.0  \n",
      "...               ...         ...      ...  \n",
      "341994            3.0       0.507      1.0  \n",
      "341995            2.0       0.432      1.0  \n",
      "341996            3.0       0.430      1.0  \n",
      "341997            3.0       0.396      0.0  \n",
      "341998            3.0       0.412      1.0  \n",
      "\n",
      "[341999 rows x 13 columns]\n"
     ]
    }
   ],
   "source": [
    "print(df)"
   ]
  },
  {
   "cell_type": "code",
   "execution_count": 122,
   "metadata": {},
   "outputs": [],
   "source": [
    "from tqdm import tqdm\n",
    "import seaborn as sns\n",
    "sns.set('notebook', style='white', font='sans-serif', font_scale=1.33)"
   ]
  },
  {
   "cell_type": "code",
   "execution_count": 123,
   "metadata": {},
   "outputs": [],
   "source": [
    "df = df.dropna()"
   ]
  },
  {
   "cell_type": "code",
   "execution_count": 124,
   "metadata": {},
   "outputs": [],
   "source": [
    "df.reset_index(inplace=True)"
   ]
  },
  {
   "cell_type": "code",
   "execution_count": 125,
   "metadata": {},
   "outputs": [],
   "source": [
    "subjects = df['subject']"
   ]
  },
  {
   "cell_type": "code",
   "execution_count": 126,
   "metadata": {},
   "outputs": [],
   "source": [
    "subdata = df.loc[df['subject'] == subjects[1]]"
   ]
  },
  {
   "cell_type": "code",
   "execution_count": 127,
   "metadata": {},
   "outputs": [
    {
     "data": {
      "text/plain": [
       "0      3018Q3ZVOIQGSXZ9L4SKHNWWZ1CRAO\n",
       "1      3018Q3ZVOIQGSXZ9L4SKHNWWZ1CRAO\n",
       "2      3018Q3ZVOIQGSXZ9L4SKHNWWZ1CRAO\n",
       "3      3018Q3ZVOIQGSXZ9L4SKHNWWZ1CRAO\n",
       "4      3018Q3ZVOIQGSXZ9L4SKHNWWZ1CRAO\n",
       "                    ...              \n",
       "164    3018Q3ZVOIQGSXZ9L4SKHNWWZ1CRAO\n",
       "165    3018Q3ZVOIQGSXZ9L4SKHNWWZ1CRAO\n",
       "166    3018Q3ZVOIQGSXZ9L4SKHNWWZ1CRAO\n",
       "167    3018Q3ZVOIQGSXZ9L4SKHNWWZ1CRAO\n",
       "168    3018Q3ZVOIQGSXZ9L4SKHNWWZ1CRAO\n",
       "Name: subject, Length: 169, dtype: object"
      ]
     },
     "execution_count": 127,
     "metadata": {},
     "output_type": "execute_result"
    }
   ],
   "source": [
    "subdata['subject']"
   ]
  },
  {
   "cell_type": "code",
   "execution_count": 128,
   "metadata": {},
   "outputs": [],
   "source": [
    "subs = np.unique(df['subject'])"
   ]
  },
  {
   "cell_type": "code",
   "execution_count": 129,
   "metadata": {},
   "outputs": [
    {
     "data": {
      "text/plain": [
       "1709"
      ]
     },
     "execution_count": 129,
     "metadata": {},
     "output_type": "execute_result"
    }
   ],
   "source": [
    "len(subs)"
   ]
  },
  {
   "cell_type": "code",
   "execution_count": 130,
   "metadata": {},
   "outputs": [],
   "source": [
    "data = []\n",
    "for s in subs:\n",
    "    subdata = df.loc[df['subject'] == s]\n",
    "    \n",
    "    r = subdata['outcome']\n",
    "    Y1 = subdata['stage_1_choice'] - 1\n",
    "    t = subdata['transition']\n",
    "\n",
    "    y1F = np.array(Y1[1:])\n",
    "    y1B = np.array(Y1[:-1])\n",
    "    \n",
    "    prev_R = np.roll(r, 1)[1:]\n",
    "    prev_T = np.roll(t, 1)[1:]\n",
    "    stay = np.where(y1B == y1F, 1, 0)\n",
    "    \n",
    "    g = DataFrame(np.column_stack([prev_R, prev_T, stay]), columns=['prev_R', 'prev_T', 'Stay'])\n",
    "    data.append(g)"
   ]
  },
  {
   "cell_type": "code",
   "execution_count": 131,
   "metadata": {},
   "outputs": [
    {
     "data": {
      "image/png": "[encoded data removed]",
      "text/plain": [
       "<Figure size 432x288 with 1 Axes>"
      ]
     },
     "metadata": {},
     "output_type": "display_data"
    }
   ],
   "source": [
    "## Concatenate DataFrames.\n",
    "data = concat(data)\n",
    "data.prev_R = data.prev_R.replace({1:'rewarded',0:'unrewarded'})\n",
    "data.prev_T = data.prev_T.replace({1:'common',0:'uncommon'})\n",
    "\n",
    "ax = sns.barplot('prev_R', 'Stay', 'prev_T', data=data, order=['rewarded','unrewarded'], \n",
    "                 hue_order=['common','uncommon'])\n",
    "\n",
    "ax.set(xticklabels=['Common','Rare'], xlabel='Transition', ylabel='Stay')\n",
    "ax.legend(loc=10, bbox_to_anchor=(1.25,0.5), frameon=False, title='Reward')\n",
    "\n",
    "sns.despine()\n",
    "plt.tight_layout()"
   ]
  },
  {
   "cell_type": "markdown",
   "metadata": {},
   "source": [
    "# Single-Subject Plotting"
   ]
  },
  {
   "cell_type": "code",
   "execution_count": 132,
   "metadata": {},
   "outputs": [
    {
     "data": {
      "image/png": "[encoded data removed]",
      "text/plain": [
       "<Figure size 432x288 with 1 Axes>"
      ]
     },
     "metadata": {},
     "output_type": "display_data"
    }
   ],
   "source": [
    "subdata = df.loc[df['subject'] == subs[30]]\n",
    "# decent looking ones: 30,\n",
    "    \n",
    "r = subdata['outcome']\n",
    "Y1 = subdata['stage_1_choice'] - 1\n",
    "t = subdata['transition']\n",
    "\n",
    "y1F = np.array(Y1[1:])\n",
    "y1B = np.array(Y1[:-1])\n",
    "    \n",
    "prev_R = np.roll(r, 1)[1:]\n",
    "prev_T = np.roll(t, 1)[1:]\n",
    "stay = np.where(y1B == y1F, 1, 0)\n",
    "    \n",
    "data = DataFrame(np.column_stack([prev_R, prev_T, stay]), columns=['prev_R', 'prev_T', 'Stay'])\n",
    "\n",
    "data.prev_R = data.prev_R.replace({1:'rewarded',0:'unrewarded'})\n",
    "data.prev_T = data.prev_T.replace({1:'common',0:'uncommon'})\n",
    "\n",
    "ax = sns.barplot('prev_R', 'Stay', 'prev_T', data=data, order=['rewarded','unrewarded'], \n",
    "                 hue_order=['common','uncommon'])\n",
    "\n",
    "ax.set(xticklabels=['Common','Rare'], xlabel='Transition', ylabel='Stay')\n",
    "ax.legend(loc=10, bbox_to_anchor=(1.25,0.5), frameon=False, title='Reward')\n",
    "\n",
    "sns.despine()\n",
    "plt.tight_layout()"
   ]
  },
  {
   "cell_type": "code",
   "execution_count": 133,
   "metadata": {},
   "outputs": [
    {
     "data": {
      "text/html": [
       "<div>\n",
       "<style scoped>\n",
       "    .dataframe tbody tr th:only-of-type {\n",
       "        vertical-align: middle;\n",
       "    }\n",
       "\n",
       "    .dataframe tbody tr th {\n",
       "        vertical-align: top;\n",
       "    }\n",
       "\n",
       "    .dataframe thead th {\n",
       "        text-align: right;\n",
       "    }\n",
       "</style>\n",
       "<table border=\"1\" class=\"dataframe\">\n",
       "  <thead>\n",
       "    <tr style=\"text-align: right;\">\n",
       "      <th></th>\n",
       "      <th>prev_R</th>\n",
       "      <th>prev_T</th>\n",
       "      <th>Stay</th>\n",
       "    </tr>\n",
       "  </thead>\n",
       "  <tbody>\n",
       "    <tr>\n",
       "      <td>0</td>\n",
       "      <td>rewarded</td>\n",
       "      <td>uncommon</td>\n",
       "      <td>1.0</td>\n",
       "    </tr>\n",
       "    <tr>\n",
       "      <td>1</td>\n",
       "      <td>unrewarded</td>\n",
       "      <td>common</td>\n",
       "      <td>1.0</td>\n",
       "    </tr>\n",
       "    <tr>\n",
       "      <td>2</td>\n",
       "      <td>rewarded</td>\n",
       "      <td>common</td>\n",
       "      <td>1.0</td>\n",
       "    </tr>\n",
       "    <tr>\n",
       "      <td>3</td>\n",
       "      <td>rewarded</td>\n",
       "      <td>uncommon</td>\n",
       "      <td>1.0</td>\n",
       "    </tr>\n",
       "    <tr>\n",
       "      <td>4</td>\n",
       "      <td>rewarded</td>\n",
       "      <td>common</td>\n",
       "      <td>1.0</td>\n",
       "    </tr>\n",
       "    <tr>\n",
       "      <td>...</td>\n",
       "      <td>...</td>\n",
       "      <td>...</td>\n",
       "      <td>...</td>\n",
       "    </tr>\n",
       "    <tr>\n",
       "      <td>190</td>\n",
       "      <td>unrewarded</td>\n",
       "      <td>uncommon</td>\n",
       "      <td>1.0</td>\n",
       "    </tr>\n",
       "    <tr>\n",
       "      <td>191</td>\n",
       "      <td>unrewarded</td>\n",
       "      <td>common</td>\n",
       "      <td>0.0</td>\n",
       "    </tr>\n",
       "    <tr>\n",
       "      <td>192</td>\n",
       "      <td>rewarded</td>\n",
       "      <td>common</td>\n",
       "      <td>1.0</td>\n",
       "    </tr>\n",
       "    <tr>\n",
       "      <td>193</td>\n",
       "      <td>unrewarded</td>\n",
       "      <td>common</td>\n",
       "      <td>0.0</td>\n",
       "    </tr>\n",
       "    <tr>\n",
       "      <td>194</td>\n",
       "      <td>rewarded</td>\n",
       "      <td>uncommon</td>\n",
       "      <td>0.0</td>\n",
       "    </tr>\n",
       "  </tbody>\n",
       "</table>\n",
       "<p>195 rows × 3 columns</p>\n",
       "</div>"
      ],
      "text/plain": [
       "         prev_R    prev_T  Stay\n",
       "0      rewarded  uncommon   1.0\n",
       "1    unrewarded    common   1.0\n",
       "2      rewarded    common   1.0\n",
       "3      rewarded  uncommon   1.0\n",
       "4      rewarded    common   1.0\n",
       "..          ...       ...   ...\n",
       "190  unrewarded  uncommon   1.0\n",
       "191  unrewarded    common   0.0\n",
       "192    rewarded    common   1.0\n",
       "193  unrewarded    common   0.0\n",
       "194    rewarded  uncommon   0.0\n",
       "\n",
       "[195 rows x 3 columns]"
      ]
     },
     "execution_count": 133,
     "metadata": {},
     "output_type": "execute_result"
    }
   ],
   "source": [
    "data"
   ]
  },
  {
   "cell_type": "markdown",
   "metadata": {},
   "source": [
    "# Cleaning the Data"
   ]
  },
  {
   "cell_type": "markdown",
   "metadata": {},
   "source": [
    "Reinforcement-Learning Task Exclusion Criteria: Subjects were excluded if they missed more than 10% of trials (Exp1: n=11; Exp2: n=62), responded on the same key on more than 95% of trials on which they registered a response (Exp1: n=46; Exp2: n=85) or had implausibly fast reaction times, i.e. ± 2 standard deviations from the mean (Exp1: n=9; Exp2: n=18)."
   ]
  },
  {
   "cell_type": "code",
   "execution_count": 134,
   "metadata": {},
   "outputs": [
    {
     "data": {
      "text/html": [
       "<div>\n",
       "<style scoped>\n",
       "    .dataframe tbody tr th:only-of-type {\n",
       "        vertical-align: middle;\n",
       "    }\n",
       "\n",
       "    .dataframe tbody tr th {\n",
       "        vertical-align: top;\n",
       "    }\n",
       "\n",
       "    .dataframe thead th {\n",
       "        text-align: right;\n",
       "    }\n",
       "</style>\n",
       "<table border=\"1\" class=\"dataframe\">\n",
       "  <thead>\n",
       "    <tr style=\"text-align: right;\">\n",
       "      <th></th>\n",
       "      <th>index</th>\n",
       "      <th>subject</th>\n",
       "      <th>trial</th>\n",
       "      <th>drift_1</th>\n",
       "      <th>drift_2</th>\n",
       "      <th>drift_3</th>\n",
       "      <th>drift_4</th>\n",
       "      <th>stage_1_choice</th>\n",
       "      <th>stage_1_rt</th>\n",
       "      <th>transition</th>\n",
       "      <th>stage_2_choice</th>\n",
       "      <th>stage_2_state</th>\n",
       "      <th>stage_2_rt</th>\n",
       "      <th>outcome</th>\n",
       "    </tr>\n",
       "  </thead>\n",
       "  <tbody>\n",
       "    <tr>\n",
       "      <td>0</td>\n",
       "      <td>1</td>\n",
       "      <td>3018Q3ZVOIQGSXZ9L4SKHNWWZ1CRAO</td>\n",
       "      <td>2</td>\n",
       "      <td>0.714</td>\n",
       "      <td>0.290</td>\n",
       "      <td>0.712</td>\n",
       "      <td>0.456</td>\n",
       "      <td>1.0</td>\n",
       "      <td>0.444</td>\n",
       "      <td>1.0</td>\n",
       "      <td>1.0</td>\n",
       "      <td>2.0</td>\n",
       "      <td>1.566</td>\n",
       "      <td>1.0</td>\n",
       "    </tr>\n",
       "    <tr>\n",
       "      <td>1</td>\n",
       "      <td>2</td>\n",
       "      <td>3018Q3ZVOIQGSXZ9L4SKHNWWZ1CRAO</td>\n",
       "      <td>3</td>\n",
       "      <td>0.709</td>\n",
       "      <td>0.346</td>\n",
       "      <td>0.714</td>\n",
       "      <td>0.466</td>\n",
       "      <td>1.0</td>\n",
       "      <td>0.459</td>\n",
       "      <td>0.0</td>\n",
       "      <td>1.0</td>\n",
       "      <td>3.0</td>\n",
       "      <td>0.669</td>\n",
       "      <td>1.0</td>\n",
       "    </tr>\n",
       "    <tr>\n",
       "      <td>2</td>\n",
       "      <td>3</td>\n",
       "      <td>3018Q3ZVOIQGSXZ9L4SKHNWWZ1CRAO</td>\n",
       "      <td>4</td>\n",
       "      <td>0.732</td>\n",
       "      <td>0.339</td>\n",
       "      <td>0.704</td>\n",
       "      <td>0.386</td>\n",
       "      <td>1.0</td>\n",
       "      <td>0.409</td>\n",
       "      <td>1.0</td>\n",
       "      <td>1.0</td>\n",
       "      <td>2.0</td>\n",
       "      <td>0.491</td>\n",
       "      <td>1.0</td>\n",
       "    </tr>\n",
       "    <tr>\n",
       "      <td>3</td>\n",
       "      <td>4</td>\n",
       "      <td>3018Q3ZVOIQGSXZ9L4SKHNWWZ1CRAO</td>\n",
       "      <td>5</td>\n",
       "      <td>0.717</td>\n",
       "      <td>0.408</td>\n",
       "      <td>0.722</td>\n",
       "      <td>0.422</td>\n",
       "      <td>1.0</td>\n",
       "      <td>0.356</td>\n",
       "      <td>1.0</td>\n",
       "      <td>1.0</td>\n",
       "      <td>2.0</td>\n",
       "      <td>0.574</td>\n",
       "      <td>1.0</td>\n",
       "    </tr>\n",
       "    <tr>\n",
       "      <td>4</td>\n",
       "      <td>5</td>\n",
       "      <td>3018Q3ZVOIQGSXZ9L4SKHNWWZ1CRAO</td>\n",
       "      <td>6</td>\n",
       "      <td>0.663</td>\n",
       "      <td>0.455</td>\n",
       "      <td>0.721</td>\n",
       "      <td>0.405</td>\n",
       "      <td>1.0</td>\n",
       "      <td>0.396</td>\n",
       "      <td>1.0</td>\n",
       "      <td>1.0</td>\n",
       "      <td>2.0</td>\n",
       "      <td>0.356</td>\n",
       "      <td>1.0</td>\n",
       "    </tr>\n",
       "    <tr>\n",
       "      <td>...</td>\n",
       "      <td>...</td>\n",
       "      <td>...</td>\n",
       "      <td>...</td>\n",
       "      <td>...</td>\n",
       "      <td>...</td>\n",
       "      <td>...</td>\n",
       "      <td>...</td>\n",
       "      <td>...</td>\n",
       "      <td>...</td>\n",
       "      <td>...</td>\n",
       "      <td>...</td>\n",
       "      <td>...</td>\n",
       "      <td>...</td>\n",
       "      <td>...</td>\n",
       "    </tr>\n",
       "    <tr>\n",
       "      <td>336445</td>\n",
       "      <td>341994</td>\n",
       "      <td>3ZY8KE4ISJ308KN7JKUG8K04OS9VQW</td>\n",
       "      <td>196</td>\n",
       "      <td>0.384</td>\n",
       "      <td>0.712</td>\n",
       "      <td>0.479</td>\n",
       "      <td>0.387</td>\n",
       "      <td>1.0</td>\n",
       "      <td>0.449</td>\n",
       "      <td>0.0</td>\n",
       "      <td>1.0</td>\n",
       "      <td>3.0</td>\n",
       "      <td>0.507</td>\n",
       "      <td>1.0</td>\n",
       "    </tr>\n",
       "    <tr>\n",
       "      <td>336446</td>\n",
       "      <td>341995</td>\n",
       "      <td>3ZY8KE4ISJ308KN7JKUG8K04OS9VQW</td>\n",
       "      <td>197</td>\n",
       "      <td>0.373</td>\n",
       "      <td>0.734</td>\n",
       "      <td>0.460</td>\n",
       "      <td>0.375</td>\n",
       "      <td>1.0</td>\n",
       "      <td>0.132</td>\n",
       "      <td>1.0</td>\n",
       "      <td>1.0</td>\n",
       "      <td>2.0</td>\n",
       "      <td>0.432</td>\n",
       "      <td>1.0</td>\n",
       "    </tr>\n",
       "    <tr>\n",
       "      <td>336447</td>\n",
       "      <td>341996</td>\n",
       "      <td>3ZY8KE4ISJ308KN7JKUG8K04OS9VQW</td>\n",
       "      <td>198</td>\n",
       "      <td>0.440</td>\n",
       "      <td>0.748</td>\n",
       "      <td>0.461</td>\n",
       "      <td>0.410</td>\n",
       "      <td>1.0</td>\n",
       "      <td>0.838</td>\n",
       "      <td>0.0</td>\n",
       "      <td>1.0</td>\n",
       "      <td>3.0</td>\n",
       "      <td>0.430</td>\n",
       "      <td>1.0</td>\n",
       "    </tr>\n",
       "    <tr>\n",
       "      <td>336448</td>\n",
       "      <td>341997</td>\n",
       "      <td>3ZY8KE4ISJ308KN7JKUG8K04OS9VQW</td>\n",
       "      <td>199</td>\n",
       "      <td>0.471</td>\n",
       "      <td>0.737</td>\n",
       "      <td>0.468</td>\n",
       "      <td>0.375</td>\n",
       "      <td>1.0</td>\n",
       "      <td>0.406</td>\n",
       "      <td>0.0</td>\n",
       "      <td>1.0</td>\n",
       "      <td>3.0</td>\n",
       "      <td>0.396</td>\n",
       "      <td>0.0</td>\n",
       "    </tr>\n",
       "    <tr>\n",
       "      <td>336449</td>\n",
       "      <td>341998</td>\n",
       "      <td>3ZY8KE4ISJ308KN7JKUG8K04OS9VQW</td>\n",
       "      <td>200</td>\n",
       "      <td>0.487</td>\n",
       "      <td>0.736</td>\n",
       "      <td>0.447</td>\n",
       "      <td>0.403</td>\n",
       "      <td>2.0</td>\n",
       "      <td>0.510</td>\n",
       "      <td>1.0</td>\n",
       "      <td>2.0</td>\n",
       "      <td>3.0</td>\n",
       "      <td>0.412</td>\n",
       "      <td>1.0</td>\n",
       "    </tr>\n",
       "  </tbody>\n",
       "</table>\n",
       "<p>336450 rows × 14 columns</p>\n",
       "</div>"
      ],
      "text/plain": [
       "         index                         subject  trial  drift_1  drift_2  \\\n",
       "0            1  3018Q3ZVOIQGSXZ9L4SKHNWWZ1CRAO      2    0.714    0.290   \n",
       "1            2  3018Q3ZVOIQGSXZ9L4SKHNWWZ1CRAO      3    0.709    0.346   \n",
       "2            3  3018Q3ZVOIQGSXZ9L4SKHNWWZ1CRAO      4    0.732    0.339   \n",
       "3            4  3018Q3ZVOIQGSXZ9L4SKHNWWZ1CRAO      5    0.717    0.408   \n",
       "4            5  3018Q3ZVOIQGSXZ9L4SKHNWWZ1CRAO      6    0.663    0.455   \n",
       "...        ...                             ...    ...      ...      ...   \n",
       "336445  341994  3ZY8KE4ISJ308KN7JKUG8K04OS9VQW    196    0.384    0.712   \n",
       "336446  341995  3ZY8KE4ISJ308KN7JKUG8K04OS9VQW    197    0.373    0.734   \n",
       "336447  341996  3ZY8KE4ISJ308KN7JKUG8K04OS9VQW    198    0.440    0.748   \n",
       "336448  341997  3ZY8KE4ISJ308KN7JKUG8K04OS9VQW    199    0.471    0.737   \n",
       "336449  341998  3ZY8KE4ISJ308KN7JKUG8K04OS9VQW    200    0.487    0.736   \n",
       "\n",
       "        drift_3  drift_4  stage_1_choice  stage_1_rt  transition  \\\n",
       "0         0.712    0.456             1.0       0.444         1.0   \n",
       "1         0.714    0.466             1.0       0.459         0.0   \n",
       "2         0.704    0.386             1.0       0.409         1.0   \n",
       "3         0.722    0.422             1.0       0.356         1.0   \n",
       "4         0.721    0.405             1.0       0.396         1.0   \n",
       "...         ...      ...             ...         ...         ...   \n",
       "336445    0.479    0.387             1.0       0.449         0.0   \n",
       "336446    0.460    0.375             1.0       0.132         1.0   \n",
       "336447    0.461    0.410             1.0       0.838         0.0   \n",
       "336448    0.468    0.375             1.0       0.406         0.0   \n",
       "336449    0.447    0.403             2.0       0.510         1.0   \n",
       "\n",
       "        stage_2_choice  stage_2_state  stage_2_rt  outcome  \n",
       "0                  1.0            2.0       1.566      1.0  \n",
       "1                  1.0            3.0       0.669      1.0  \n",
       "2                  1.0            2.0       0.491      1.0  \n",
       "3                  1.0            2.0       0.574      1.0  \n",
       "4                  1.0            2.0       0.356      1.0  \n",
       "...                ...            ...         ...      ...  \n",
       "336445             1.0            3.0       0.507      1.0  \n",
       "336446             1.0            2.0       0.432      1.0  \n",
       "336447             1.0            3.0       0.430      1.0  \n",
       "336448             1.0            3.0       0.396      0.0  \n",
       "336449             2.0            3.0       0.412      1.0  \n",
       "\n",
       "[336450 rows x 14 columns]"
      ]
     },
     "execution_count": 134,
     "metadata": {},
     "output_type": "execute_result"
    }
   ],
   "source": [
    "df"
   ]
  },
  {
   "cell_type": "code",
   "execution_count": 135,
   "metadata": {},
   "outputs": [
    {
     "data": {
      "text/plain": [
       "array(['3018Q3ZVOIQGSXZ9L4SKHNWWZ1CRAO', '304SM51WA34XCM4E67SL28LY2UCBS4',\n",
       "       '308Q0PEVB8DPUFML3BKB70KL51T9IW', ...,\n",
       "       '3ZY8KE4ISJ308KN7JKUG8K04N69VQN', '3ZY8KE4ISJ308KN7JKUG8K04OQDQVR',\n",
       "       '3ZY8KE4ISJ308KN7JKUG8K04OS9VQW'], dtype=object)"
      ]
     },
     "execution_count": 135,
     "metadata": {},
     "output_type": "execute_result"
    }
   ],
   "source": [
    "subs"
   ]
  },
  {
   "cell_type": "code",
   "execution_count": 136,
   "metadata": {},
   "outputs": [],
   "source": [
    "drop_subs = []\n",
    "for s in subs:\n",
    "    # check if more than 10% removed by nan removal (i.e. missed trial)\n",
    "    if len(df.loc[df['subject'] == s]) < 180:\n",
    "        drop_subs.append(s)"
   ]
  },
  {
   "cell_type": "code",
   "execution_count": 137,
   "metadata": {},
   "outputs": [
    {
     "data": {
      "text/plain": [
       "53"
      ]
     },
     "execution_count": 137,
     "metadata": {},
     "output_type": "execute_result"
    }
   ],
   "source": [
    "len(drop_subs)"
   ]
  },
  {
   "cell_type": "code",
   "execution_count": 138,
   "metadata": {},
   "outputs": [],
   "source": [
    "# delete all subjects that missed more than 10% of trials\n",
    "for s in drop_subs:\n",
    "    df = df.drop(df[df['subject'] == s].index)"
   ]
  },
  {
   "cell_type": "code",
   "execution_count": 139,
   "metadata": {},
   "outputs": [
    {
     "data": {
      "text/plain": [
       "328671"
      ]
     },
     "execution_count": 139,
     "metadata": {},
     "output_type": "execute_result"
    }
   ],
   "source": [
    "len(df)"
   ]
  },
  {
   "cell_type": "code",
   "execution_count": 140,
   "metadata": {},
   "outputs": [],
   "source": [
    "# find subjects who had implausibly fast reaction times (+- 2 std. dev. from the mean)"
   ]
  },
  {
   "cell_type": "code",
   "execution_count": 141,
   "metadata": {},
   "outputs": [],
   "source": [
    "s1_RT = np.array(df['stage_1_rt'])\n",
    "s1_mean = np.mean(s1_RT)\n",
    "s1_sd = np.std(s1_RT)\n",
    "s1_upper = s1_mean + (2*s1_sd)\n",
    "s1_lower = s1_mean - (2*s1_sd)\n",
    "\n",
    "s2_RT = np.array(df['stage_2_rt'])\n",
    "s2_mean = np.mean(s2_RT)\n",
    "s2_sd = np.std(s2_RT)\n",
    "s2_upper = s2_mean + (2*s2_sd)\n",
    "s2_lower = s2_mean - (2*s2_sd)"
   ]
  },
  {
   "cell_type": "code",
   "execution_count": 142,
   "metadata": {},
   "outputs": [],
   "source": [
    "S1rts = df['stage_1_rt']"
   ]
  },
  {
   "cell_type": "code",
   "execution_count": 143,
   "metadata": {},
   "outputs": [
    {
     "name": "stderr",
     "output_type": "stream",
     "text": [
      "/opt/anaconda3/lib/python3.7/site-packages/ipykernel_launcher.py:1: FutureWarning: get_value is deprecated and will be removed in a future release. Please use .at[] or .iat[] accessors instead\n",
      "  \"\"\"Entry point for launching an IPython kernel.\n"
     ]
    },
    {
     "data": {
      "text/plain": [
       "2.1959999999999997"
      ]
     },
     "execution_count": 143,
     "metadata": {},
     "output_type": "execute_result"
    }
   ],
   "source": [
    "S1rts.get_value(169)"
   ]
  },
  {
   "cell_type": "code",
   "execution_count": 144,
   "metadata": {},
   "outputs": [
    {
     "name": "stderr",
     "output_type": "stream",
     "text": [
      "/opt/anaconda3/lib/python3.7/site-packages/ipykernel_launcher.py:4: FutureWarning: get_value is deprecated and will be removed in a future release. Please use .at[] or .iat[] accessors instead\n",
      "  after removing the cwd from sys.path.\n",
      "/opt/anaconda3/lib/python3.7/site-packages/ipykernel_launcher.py:6: FutureWarning: get_value is deprecated and will be removed in a future release. Please use .at[] or .iat[] accessors instead\n",
      "  \n"
     ]
    }
   ],
   "source": [
    "drop_rt1s = []\n",
    "for j in range(len(S1rts)):\n",
    "    index = df['stage_1_rt'].index[j]\n",
    "    x = df.get_value(index, 'stage_1_rt')\n",
    "    if (x > s1_upper) or (x < s1_lower):\n",
    "        sub_name = df.get_value(index, 'subject')\n",
    "        drop_rt1s.append(sub_name)"
   ]
  },
  {
   "cell_type": "code",
   "execution_count": 145,
   "metadata": {},
   "outputs": [],
   "source": [
    "d1s = np.unique(drop_rt1s)"
   ]
  },
  {
   "cell_type": "code",
   "execution_count": 146,
   "metadata": {},
   "outputs": [
    {
     "data": {
      "text/plain": [
       "1566"
      ]
     },
     "execution_count": 146,
     "metadata": {},
     "output_type": "execute_result"
    }
   ],
   "source": [
    "len(d1s)"
   ]
  },
  {
   "cell_type": "code",
   "execution_count": 147,
   "metadata": {},
   "outputs": [],
   "source": [
    "S2rts = df['stage_2_rt']"
   ]
  },
  {
   "cell_type": "code",
   "execution_count": 148,
   "metadata": {},
   "outputs": [
    {
     "name": "stderr",
     "output_type": "stream",
     "text": [
      "/opt/anaconda3/lib/python3.7/site-packages/ipykernel_launcher.py:5: FutureWarning: get_value is deprecated and will be removed in a future release. Please use .at[] or .iat[] accessors instead\n",
      "  \"\"\"\n",
      "/opt/anaconda3/lib/python3.7/site-packages/ipykernel_launcher.py:7: FutureWarning: get_value is deprecated and will be removed in a future release. Please use .at[] or .iat[] accessors instead\n",
      "  import sys\n"
     ]
    }
   ],
   "source": [
    "# for stage 2 reaction times\n",
    "drop_rt2s = []\n",
    "for j in range(len(S2rts)):\n",
    "    index = df['stage_2_rt'].index[j]\n",
    "    x = df.get_value(index, 'stage_2_rt')\n",
    "    if (x > s2_upper) or (x < s2_lower):\n",
    "        sub_name = df.get_value(index, 'subject')\n",
    "        drop_rt2s.append(sub_name)"
   ]
  },
  {
   "cell_type": "code",
   "execution_count": 149,
   "metadata": {},
   "outputs": [],
   "source": [
    "d2s = np.unique(drop_rt2s)"
   ]
  },
  {
   "cell_type": "code",
   "execution_count": 150,
   "metadata": {},
   "outputs": [],
   "source": [
    "a = np.concatenate((d1s,d2s),axis=0)"
   ]
  },
  {
   "cell_type": "code",
   "execution_count": 151,
   "metadata": {},
   "outputs": [],
   "source": [
    "b = np.unique(a)"
   ]
  },
  {
   "cell_type": "code",
   "execution_count": 152,
   "metadata": {},
   "outputs": [
    {
     "data": {
      "text/plain": [
       "1615"
      ]
     },
     "execution_count": 152,
     "metadata": {},
     "output_type": "execute_result"
    }
   ],
   "source": [
    "len(b)"
   ]
  },
  {
   "cell_type": "code",
   "execution_count": 153,
   "metadata": {},
   "outputs": [
    {
     "data": {
      "text/plain": [
       "array(['304SM51WA34XCM4E67SL28LY2UCBS4', '308Q0PEVB8DPUFML3BKB70KL51T9IW',\n",
       "       '308Q0PEVB8DPUFML3BKB70KL6Q8I9Z', ...,\n",
       "       '3ZY8KE4ISJ308KN7JKUG8K04N69VQN', '3ZY8KE4ISJ308KN7JKUG8K04OQDQVR',\n",
       "       '3ZY8KE4ISJ308KN7JKUG8K04OS9VQW'], dtype='<U30')"
      ]
     },
     "execution_count": 153,
     "metadata": {},
     "output_type": "execute_result"
    }
   ],
   "source": [
    "b"
   ]
  },
  {
   "cell_type": "code",
   "execution_count": 155,
   "metadata": {},
   "outputs": [],
   "source": [
    "# delete all subjects that had ANY improbable reaction times\n",
    "for subj in b:\n",
    "    df.drop(df[df['subject'] == subj].index)"
   ]
  },
  {
   "cell_type": "code",
   "execution_count": 156,
   "metadata": {},
   "outputs": [
    {
     "data": {
      "text/html": [
       "<div>\n",
       "<style scoped>\n",
       "    .dataframe tbody tr th:only-of-type {\n",
       "        vertical-align: middle;\n",
       "    }\n",
       "\n",
       "    .dataframe tbody tr th {\n",
       "        vertical-align: top;\n",
       "    }\n",
       "\n",
       "    .dataframe thead th {\n",
       "        text-align: right;\n",
       "    }\n",
       "</style>\n",
       "<table border=\"1\" class=\"dataframe\">\n",
       "  <thead>\n",
       "    <tr style=\"text-align: right;\">\n",
       "      <th></th>\n",
       "      <th>index</th>\n",
       "      <th>subject</th>\n",
       "      <th>trial</th>\n",
       "      <th>drift_1</th>\n",
       "      <th>drift_2</th>\n",
       "      <th>drift_3</th>\n",
       "      <th>drift_4</th>\n",
       "      <th>stage_1_choice</th>\n",
       "      <th>stage_1_rt</th>\n",
       "      <th>transition</th>\n",
       "      <th>stage_2_choice</th>\n",
       "      <th>stage_2_state</th>\n",
       "      <th>stage_2_rt</th>\n",
       "      <th>outcome</th>\n",
       "    </tr>\n",
       "  </thead>\n",
       "  <tbody>\n",
       "    <tr>\n",
       "      <td>6898</td>\n",
       "      <td>7000</td>\n",
       "      <td>30ZX6P7VF8VAP6LS0KQW9ER7DVVJ2K</td>\n",
       "      <td>1</td>\n",
       "      <td>0.743</td>\n",
       "      <td>0.273</td>\n",
       "      <td>0.717</td>\n",
       "      <td>0.479</td>\n",
       "      <td>1.0</td>\n",
       "      <td>0.531</td>\n",
       "      <td>0.0</td>\n",
       "      <td>1.0</td>\n",
       "      <td>3.0</td>\n",
       "      <td>0.443</td>\n",
       "      <td>0.0</td>\n",
       "    </tr>\n",
       "    <tr>\n",
       "      <td>6899</td>\n",
       "      <td>7001</td>\n",
       "      <td>30ZX6P7VF8VAP6LS0KQW9ER7DVVJ2K</td>\n",
       "      <td>2</td>\n",
       "      <td>0.714</td>\n",
       "      <td>0.290</td>\n",
       "      <td>0.712</td>\n",
       "      <td>0.456</td>\n",
       "      <td>1.0</td>\n",
       "      <td>0.398</td>\n",
       "      <td>1.0</td>\n",
       "      <td>2.0</td>\n",
       "      <td>2.0</td>\n",
       "      <td>0.348</td>\n",
       "      <td>0.0</td>\n",
       "    </tr>\n",
       "    <tr>\n",
       "      <td>6900</td>\n",
       "      <td>7002</td>\n",
       "      <td>30ZX6P7VF8VAP6LS0KQW9ER7DVVJ2K</td>\n",
       "      <td>3</td>\n",
       "      <td>0.709</td>\n",
       "      <td>0.346</td>\n",
       "      <td>0.714</td>\n",
       "      <td>0.466</td>\n",
       "      <td>1.0</td>\n",
       "      <td>0.334</td>\n",
       "      <td>1.0</td>\n",
       "      <td>1.0</td>\n",
       "      <td>2.0</td>\n",
       "      <td>0.644</td>\n",
       "      <td>1.0</td>\n",
       "    </tr>\n",
       "    <tr>\n",
       "      <td>6901</td>\n",
       "      <td>7003</td>\n",
       "      <td>30ZX6P7VF8VAP6LS0KQW9ER7DVVJ2K</td>\n",
       "      <td>4</td>\n",
       "      <td>0.732</td>\n",
       "      <td>0.339</td>\n",
       "      <td>0.704</td>\n",
       "      <td>0.386</td>\n",
       "      <td>1.0</td>\n",
       "      <td>0.453</td>\n",
       "      <td>0.0</td>\n",
       "      <td>2.0</td>\n",
       "      <td>3.0</td>\n",
       "      <td>0.620</td>\n",
       "      <td>0.0</td>\n",
       "    </tr>\n",
       "    <tr>\n",
       "      <td>6902</td>\n",
       "      <td>7004</td>\n",
       "      <td>30ZX6P7VF8VAP6LS0KQW9ER7DVVJ2K</td>\n",
       "      <td>5</td>\n",
       "      <td>0.717</td>\n",
       "      <td>0.408</td>\n",
       "      <td>0.722</td>\n",
       "      <td>0.422</td>\n",
       "      <td>1.0</td>\n",
       "      <td>0.422</td>\n",
       "      <td>1.0</td>\n",
       "      <td>1.0</td>\n",
       "      <td>2.0</td>\n",
       "      <td>0.620</td>\n",
       "      <td>0.0</td>\n",
       "    </tr>\n",
       "    <tr>\n",
       "      <td>...</td>\n",
       "      <td>...</td>\n",
       "      <td>...</td>\n",
       "      <td>...</td>\n",
       "      <td>...</td>\n",
       "      <td>...</td>\n",
       "      <td>...</td>\n",
       "      <td>...</td>\n",
       "      <td>...</td>\n",
       "      <td>...</td>\n",
       "      <td>...</td>\n",
       "      <td>...</td>\n",
       "      <td>...</td>\n",
       "      <td>...</td>\n",
       "      <td>...</td>\n",
       "    </tr>\n",
       "    <tr>\n",
       "      <td>333675</td>\n",
       "      <td>339194</td>\n",
       "      <td>3ZR9AIQJUB9DQEZTIQZEKO99Y0P40Y</td>\n",
       "      <td>196</td>\n",
       "      <td>0.384</td>\n",
       "      <td>0.712</td>\n",
       "      <td>0.479</td>\n",
       "      <td>0.387</td>\n",
       "      <td>2.0</td>\n",
       "      <td>0.332</td>\n",
       "      <td>1.0</td>\n",
       "      <td>2.0</td>\n",
       "      <td>3.0</td>\n",
       "      <td>0.285</td>\n",
       "      <td>0.0</td>\n",
       "    </tr>\n",
       "    <tr>\n",
       "      <td>333676</td>\n",
       "      <td>339195</td>\n",
       "      <td>3ZR9AIQJUB9DQEZTIQZEKO99Y0P40Y</td>\n",
       "      <td>197</td>\n",
       "      <td>0.373</td>\n",
       "      <td>0.734</td>\n",
       "      <td>0.460</td>\n",
       "      <td>0.375</td>\n",
       "      <td>2.0</td>\n",
       "      <td>0.295</td>\n",
       "      <td>1.0</td>\n",
       "      <td>1.0</td>\n",
       "      <td>3.0</td>\n",
       "      <td>0.296</td>\n",
       "      <td>0.0</td>\n",
       "    </tr>\n",
       "    <tr>\n",
       "      <td>333677</td>\n",
       "      <td>339196</td>\n",
       "      <td>3ZR9AIQJUB9DQEZTIQZEKO99Y0P40Y</td>\n",
       "      <td>198</td>\n",
       "      <td>0.440</td>\n",
       "      <td>0.748</td>\n",
       "      <td>0.461</td>\n",
       "      <td>0.410</td>\n",
       "      <td>1.0</td>\n",
       "      <td>0.261</td>\n",
       "      <td>1.0</td>\n",
       "      <td>2.0</td>\n",
       "      <td>2.0</td>\n",
       "      <td>0.392</td>\n",
       "      <td>1.0</td>\n",
       "    </tr>\n",
       "    <tr>\n",
       "      <td>333678</td>\n",
       "      <td>339197</td>\n",
       "      <td>3ZR9AIQJUB9DQEZTIQZEKO99Y0P40Y</td>\n",
       "      <td>199</td>\n",
       "      <td>0.471</td>\n",
       "      <td>0.737</td>\n",
       "      <td>0.468</td>\n",
       "      <td>0.375</td>\n",
       "      <td>1.0</td>\n",
       "      <td>0.329</td>\n",
       "      <td>1.0</td>\n",
       "      <td>2.0</td>\n",
       "      <td>2.0</td>\n",
       "      <td>0.267</td>\n",
       "      <td>1.0</td>\n",
       "    </tr>\n",
       "    <tr>\n",
       "      <td>333679</td>\n",
       "      <td>339198</td>\n",
       "      <td>3ZR9AIQJUB9DQEZTIQZEKO99Y0P40Y</td>\n",
       "      <td>200</td>\n",
       "      <td>0.487</td>\n",
       "      <td>0.736</td>\n",
       "      <td>0.447</td>\n",
       "      <td>0.403</td>\n",
       "      <td>1.0</td>\n",
       "      <td>0.387</td>\n",
       "      <td>0.0</td>\n",
       "      <td>2.0</td>\n",
       "      <td>3.0</td>\n",
       "      <td>0.280</td>\n",
       "      <td>1.0</td>\n",
       "    </tr>\n",
       "  </tbody>\n",
       "</table>\n",
       "<p>8182 rows × 14 columns</p>\n",
       "</div>"
      ],
      "text/plain": [
       "         index                         subject  trial  drift_1  drift_2  \\\n",
       "6898      7000  30ZX6P7VF8VAP6LS0KQW9ER7DVVJ2K      1    0.743    0.273   \n",
       "6899      7001  30ZX6P7VF8VAP6LS0KQW9ER7DVVJ2K      2    0.714    0.290   \n",
       "6900      7002  30ZX6P7VF8VAP6LS0KQW9ER7DVVJ2K      3    0.709    0.346   \n",
       "6901      7003  30ZX6P7VF8VAP6LS0KQW9ER7DVVJ2K      4    0.732    0.339   \n",
       "6902      7004  30ZX6P7VF8VAP6LS0KQW9ER7DVVJ2K      5    0.717    0.408   \n",
       "...        ...                             ...    ...      ...      ...   \n",
       "333675  339194  3ZR9AIQJUB9DQEZTIQZEKO99Y0P40Y    196    0.384    0.712   \n",
       "333676  339195  3ZR9AIQJUB9DQEZTIQZEKO99Y0P40Y    197    0.373    0.734   \n",
       "333677  339196  3ZR9AIQJUB9DQEZTIQZEKO99Y0P40Y    198    0.440    0.748   \n",
       "333678  339197  3ZR9AIQJUB9DQEZTIQZEKO99Y0P40Y    199    0.471    0.737   \n",
       "333679  339198  3ZR9AIQJUB9DQEZTIQZEKO99Y0P40Y    200    0.487    0.736   \n",
       "\n",
       "        drift_3  drift_4  stage_1_choice  stage_1_rt  transition  \\\n",
       "6898      0.717    0.479             1.0       0.531         0.0   \n",
       "6899      0.712    0.456             1.0       0.398         1.0   \n",
       "6900      0.714    0.466             1.0       0.334         1.0   \n",
       "6901      0.704    0.386             1.0       0.453         0.0   \n",
       "6902      0.722    0.422             1.0       0.422         1.0   \n",
       "...         ...      ...             ...         ...         ...   \n",
       "333675    0.479    0.387             2.0       0.332         1.0   \n",
       "333676    0.460    0.375             2.0       0.295         1.0   \n",
       "333677    0.461    0.410             1.0       0.261         1.0   \n",
       "333678    0.468    0.375             1.0       0.329         1.0   \n",
       "333679    0.447    0.403             1.0       0.387         0.0   \n",
       "\n",
       "        stage_2_choice  stage_2_state  stage_2_rt  outcome  \n",
       "6898               1.0            3.0       0.443      0.0  \n",
       "6899               2.0            2.0       0.348      0.0  \n",
       "6900               1.0            2.0       0.644      1.0  \n",
       "6901               2.0            3.0       0.620      0.0  \n",
       "6902               1.0            2.0       0.620      0.0  \n",
       "...                ...            ...         ...      ...  \n",
       "333675             2.0            3.0       0.285      0.0  \n",
       "333676             1.0            3.0       0.296      0.0  \n",
       "333677             2.0            2.0       0.392      1.0  \n",
       "333678             2.0            2.0       0.267      1.0  \n",
       "333679             2.0            3.0       0.280      1.0  \n",
       "\n",
       "[8182 rows x 14 columns]"
      ]
     },
     "execution_count": 156,
     "metadata": {},
     "output_type": "execute_result"
    }
   ],
   "source": [
    "df"
   ]
  },
  {
   "cell_type": "code",
   "execution_count": null,
   "metadata": {},
   "outputs": [],
   "source": []
  },
  {
   "cell_type": "code",
   "execution_count": null,
   "metadata": {},
   "outputs": [],
   "source": []
  },
  {
   "cell_type": "code",
   "execution_count": null,
   "metadata": {},
   "outputs": [],
   "source": []
  },
  {
   "cell_type": "markdown",
   "metadata": {},
   "source": [
    "# Stan Testing"
   ]
  },
  {
   "cell_type": "code",
   "execution_count": 15,
   "metadata": {},
   "outputs": [],
   "source": [
    "import os, pystan\n",
    "import _pickle as pickle\n",
    "\n",
    "def load_model(filepath):\n",
    "    \"\"\"Load or precomplile a StanModel object.\n",
    "    Parameters\n",
    "    ----------\n",
    "    filepath : str\n",
    "        Path to the Stan model.\n",
    "    Returns\n",
    "    -------\n",
    "    StanModel : pystan.StanModel\n",
    "        Model described in Stan’s modeling language compiled from C++ code.\n",
    "    Notes\n",
    "    -----\n",
    "    If an extensionless filepath is supplied, looks for *.stan or *.txt files for StanCode \n",
    "    and *.pkl and *.pickle for StanModels. Otherwise requires a file with one of those four extensions.\n",
    "    \"\"\"\n",
    "\n",
    "    for ext in ['.pkl','.pickle','.stan','.txt']:\n",
    "\n",
    "        if filepath.endswith(ext):\n",
    "            break\n",
    "        elif os.path.isfile(filepath + ext):\n",
    "            filepath += ext\n",
    "            break\n",
    "\n",
    "    if filepath.lower().endswith(('.pkl','.pickle')):\n",
    "\n",
    "        ## Load pickle object.\n",
    "        StanModel = pickle.load(open(filepath, 'rb'))\n",
    "\n",
    "    elif filepath.lower().endswith(('.stan','.txt')):\n",
    "\n",
    "        ## Precompile StanModel.\n",
    "        StanModel = pystan.StanModel(file=filepath)\n",
    "\n",
    "        ## Dump to pickle object.\n",
    "        f = '.'.join(filepath.split('.')[:-1]) + '.pkl'\n",
    "        with open(f, 'wb') as f: pickle.dump(StanModel, f)\n",
    "\n",
    "    else:\n",
    "\n",
    "        raise IOError('%s not correct filetype.' %filepath)\n",
    "\n",
    "    return StanModel"
   ]
  },
  {
   "cell_type": "markdown",
   "metadata": {},
   "source": [
    "# Single-Subject EA Fit"
   ]
  },
  {
   "cell_type": "code",
   "execution_count": 16,
   "metadata": {},
   "outputs": [],
   "source": [
    "PATH_NAME = '/Users/kierstenmarr/Desktop/EA'"
   ]
  },
  {
   "cell_type": "code",
   "execution_count": 17,
   "metadata": {},
   "outputs": [],
   "source": [
    "#~~~~~~~~~~~~~~~~~~~~~~~~~~~~~~~~~~~~~~~~~~#\n",
    "### Define parameters.\n",
    "#~~~~~~~~~~~~~~~~~~~~~~~~~~~~~~~~~~~~~~~~~~#\n",
    "\n",
    "## I/O parameters.\n",
    "stan_model = 'EA.stan'\n",
    "\n",
    "## Sampling parameters.\n",
    "samples = 4000\n",
    "warmup = 2000\n",
    "chains = 4\n",
    "thin = 1\n",
    "n_jobs = 4\n",
    "\n",
    "## Seed.\n",
    "seed = 0"
   ]
  },
  {
   "cell_type": "code",
   "execution_count": 24,
   "metadata": {},
   "outputs": [],
   "source": [
    "subdata = df.loc[df['subject'] == subs[1]]"
   ]
  },
  {
   "cell_type": "code",
   "execution_count": 25,
   "metadata": {},
   "outputs": [
    {
     "data": {
      "text/html": [
       "<div>\n",
       "<style scoped>\n",
       "    .dataframe tbody tr th:only-of-type {\n",
       "        vertical-align: middle;\n",
       "    }\n",
       "\n",
       "    .dataframe tbody tr th {\n",
       "        vertical-align: top;\n",
       "    }\n",
       "\n",
       "    .dataframe thead th {\n",
       "        text-align: right;\n",
       "    }\n",
       "</style>\n",
       "<table border=\"1\" class=\"dataframe\">\n",
       "  <thead>\n",
       "    <tr style=\"text-align: right;\">\n",
       "      <th></th>\n",
       "      <th>index</th>\n",
       "      <th>subject</th>\n",
       "      <th>trial</th>\n",
       "      <th>drift_1</th>\n",
       "      <th>drift_2</th>\n",
       "      <th>drift_3</th>\n",
       "      <th>drift_4</th>\n",
       "      <th>stage_1_choice</th>\n",
       "      <th>stage_1_rt</th>\n",
       "      <th>transition</th>\n",
       "      <th>stage_2_choice</th>\n",
       "      <th>stage_2_state</th>\n",
       "      <th>stage_2_rt</th>\n",
       "      <th>outcome</th>\n",
       "    </tr>\n",
       "  </thead>\n",
       "  <tbody>\n",
       "    <tr>\n",
       "      <td>169</td>\n",
       "      <td>200</td>\n",
       "      <td>304SM51WA34XCM4E67SL28LY2UCBS4</td>\n",
       "      <td>1</td>\n",
       "      <td>0.743</td>\n",
       "      <td>0.273</td>\n",
       "      <td>0.717</td>\n",
       "      <td>0.479</td>\n",
       "      <td>1.0</td>\n",
       "      <td>2.196</td>\n",
       "      <td>1.0</td>\n",
       "      <td>1.0</td>\n",
       "      <td>2.0</td>\n",
       "      <td>1.179</td>\n",
       "      <td>1.0</td>\n",
       "    </tr>\n",
       "    <tr>\n",
       "      <td>170</td>\n",
       "      <td>201</td>\n",
       "      <td>304SM51WA34XCM4E67SL28LY2UCBS4</td>\n",
       "      <td>2</td>\n",
       "      <td>0.714</td>\n",
       "      <td>0.290</td>\n",
       "      <td>0.712</td>\n",
       "      <td>0.456</td>\n",
       "      <td>2.0</td>\n",
       "      <td>1.241</td>\n",
       "      <td>1.0</td>\n",
       "      <td>1.0</td>\n",
       "      <td>3.0</td>\n",
       "      <td>1.164</td>\n",
       "      <td>1.0</td>\n",
       "    </tr>\n",
       "    <tr>\n",
       "      <td>171</td>\n",
       "      <td>202</td>\n",
       "      <td>304SM51WA34XCM4E67SL28LY2UCBS4</td>\n",
       "      <td>3</td>\n",
       "      <td>0.709</td>\n",
       "      <td>0.346</td>\n",
       "      <td>0.714</td>\n",
       "      <td>0.466</td>\n",
       "      <td>2.0</td>\n",
       "      <td>0.994</td>\n",
       "      <td>1.0</td>\n",
       "      <td>1.0</td>\n",
       "      <td>3.0</td>\n",
       "      <td>0.493</td>\n",
       "      <td>1.0</td>\n",
       "    </tr>\n",
       "    <tr>\n",
       "      <td>172</td>\n",
       "      <td>203</td>\n",
       "      <td>304SM51WA34XCM4E67SL28LY2UCBS4</td>\n",
       "      <td>4</td>\n",
       "      <td>0.732</td>\n",
       "      <td>0.339</td>\n",
       "      <td>0.704</td>\n",
       "      <td>0.386</td>\n",
       "      <td>2.0</td>\n",
       "      <td>0.553</td>\n",
       "      <td>1.0</td>\n",
       "      <td>1.0</td>\n",
       "      <td>3.0</td>\n",
       "      <td>0.436</td>\n",
       "      <td>1.0</td>\n",
       "    </tr>\n",
       "    <tr>\n",
       "      <td>173</td>\n",
       "      <td>204</td>\n",
       "      <td>304SM51WA34XCM4E67SL28LY2UCBS4</td>\n",
       "      <td>5</td>\n",
       "      <td>0.717</td>\n",
       "      <td>0.408</td>\n",
       "      <td>0.722</td>\n",
       "      <td>0.422</td>\n",
       "      <td>1.0</td>\n",
       "      <td>0.530</td>\n",
       "      <td>0.0</td>\n",
       "      <td>1.0</td>\n",
       "      <td>3.0</td>\n",
       "      <td>0.772</td>\n",
       "      <td>0.0</td>\n",
       "    </tr>\n",
       "    <tr>\n",
       "      <td>...</td>\n",
       "      <td>...</td>\n",
       "      <td>...</td>\n",
       "      <td>...</td>\n",
       "      <td>...</td>\n",
       "      <td>...</td>\n",
       "      <td>...</td>\n",
       "      <td>...</td>\n",
       "      <td>...</td>\n",
       "      <td>...</td>\n",
       "      <td>...</td>\n",
       "      <td>...</td>\n",
       "      <td>...</td>\n",
       "      <td>...</td>\n",
       "      <td>...</td>\n",
       "    </tr>\n",
       "    <tr>\n",
       "      <td>363</td>\n",
       "      <td>395</td>\n",
       "      <td>304SM51WA34XCM4E67SL28LY2UCBS4</td>\n",
       "      <td>196</td>\n",
       "      <td>0.384</td>\n",
       "      <td>0.712</td>\n",
       "      <td>0.479</td>\n",
       "      <td>0.387</td>\n",
       "      <td>2.0</td>\n",
       "      <td>0.520</td>\n",
       "      <td>0.0</td>\n",
       "      <td>2.0</td>\n",
       "      <td>2.0</td>\n",
       "      <td>0.324</td>\n",
       "      <td>0.0</td>\n",
       "    </tr>\n",
       "    <tr>\n",
       "      <td>364</td>\n",
       "      <td>396</td>\n",
       "      <td>304SM51WA34XCM4E67SL28LY2UCBS4</td>\n",
       "      <td>197</td>\n",
       "      <td>0.373</td>\n",
       "      <td>0.734</td>\n",
       "      <td>0.460</td>\n",
       "      <td>0.375</td>\n",
       "      <td>2.0</td>\n",
       "      <td>1.593</td>\n",
       "      <td>1.0</td>\n",
       "      <td>2.0</td>\n",
       "      <td>3.0</td>\n",
       "      <td>1.828</td>\n",
       "      <td>1.0</td>\n",
       "    </tr>\n",
       "    <tr>\n",
       "      <td>365</td>\n",
       "      <td>397</td>\n",
       "      <td>304SM51WA34XCM4E67SL28LY2UCBS4</td>\n",
       "      <td>198</td>\n",
       "      <td>0.440</td>\n",
       "      <td>0.748</td>\n",
       "      <td>0.461</td>\n",
       "      <td>0.410</td>\n",
       "      <td>2.0</td>\n",
       "      <td>0.538</td>\n",
       "      <td>1.0</td>\n",
       "      <td>2.0</td>\n",
       "      <td>3.0</td>\n",
       "      <td>0.860</td>\n",
       "      <td>1.0</td>\n",
       "    </tr>\n",
       "    <tr>\n",
       "      <td>366</td>\n",
       "      <td>398</td>\n",
       "      <td>304SM51WA34XCM4E67SL28LY2UCBS4</td>\n",
       "      <td>199</td>\n",
       "      <td>0.471</td>\n",
       "      <td>0.737</td>\n",
       "      <td>0.468</td>\n",
       "      <td>0.375</td>\n",
       "      <td>2.0</td>\n",
       "      <td>1.138</td>\n",
       "      <td>1.0</td>\n",
       "      <td>2.0</td>\n",
       "      <td>3.0</td>\n",
       "      <td>0.845</td>\n",
       "      <td>0.0</td>\n",
       "    </tr>\n",
       "    <tr>\n",
       "      <td>367</td>\n",
       "      <td>399</td>\n",
       "      <td>304SM51WA34XCM4E67SL28LY2UCBS4</td>\n",
       "      <td>200</td>\n",
       "      <td>0.487</td>\n",
       "      <td>0.736</td>\n",
       "      <td>0.447</td>\n",
       "      <td>0.403</td>\n",
       "      <td>2.0</td>\n",
       "      <td>0.898</td>\n",
       "      <td>0.0</td>\n",
       "      <td>1.0</td>\n",
       "      <td>2.0</td>\n",
       "      <td>1.445</td>\n",
       "      <td>1.0</td>\n",
       "    </tr>\n",
       "  </tbody>\n",
       "</table>\n",
       "<p>199 rows × 14 columns</p>\n",
       "</div>"
      ],
      "text/plain": [
       "     index                         subject  trial  drift_1  drift_2  drift_3  \\\n",
       "169    200  304SM51WA34XCM4E67SL28LY2UCBS4      1    0.743    0.273    0.717   \n",
       "170    201  304SM51WA34XCM4E67SL28LY2UCBS4      2    0.714    0.290    0.712   \n",
       "171    202  304SM51WA34XCM4E67SL28LY2UCBS4      3    0.709    0.346    0.714   \n",
       "172    203  304SM51WA34XCM4E67SL28LY2UCBS4      4    0.732    0.339    0.704   \n",
       "173    204  304SM51WA34XCM4E67SL28LY2UCBS4      5    0.717    0.408    0.722   \n",
       "..     ...                             ...    ...      ...      ...      ...   \n",
       "363    395  304SM51WA34XCM4E67SL28LY2UCBS4    196    0.384    0.712    0.479   \n",
       "364    396  304SM51WA34XCM4E67SL28LY2UCBS4    197    0.373    0.734    0.460   \n",
       "365    397  304SM51WA34XCM4E67SL28LY2UCBS4    198    0.440    0.748    0.461   \n",
       "366    398  304SM51WA34XCM4E67SL28LY2UCBS4    199    0.471    0.737    0.468   \n",
       "367    399  304SM51WA34XCM4E67SL28LY2UCBS4    200    0.487    0.736    0.447   \n",
       "\n",
       "     drift_4  stage_1_choice  stage_1_rt  transition  stage_2_choice  \\\n",
       "169    0.479             1.0       2.196         1.0             1.0   \n",
       "170    0.456             2.0       1.241         1.0             1.0   \n",
       "171    0.466             2.0       0.994         1.0             1.0   \n",
       "172    0.386             2.0       0.553         1.0             1.0   \n",
       "173    0.422             1.0       0.530         0.0             1.0   \n",
       "..       ...             ...         ...         ...             ...   \n",
       "363    0.387             2.0       0.520         0.0             2.0   \n",
       "364    0.375             2.0       1.593         1.0             2.0   \n",
       "365    0.410             2.0       0.538         1.0             2.0   \n",
       "366    0.375             2.0       1.138         1.0             2.0   \n",
       "367    0.403             2.0       0.898         0.0             1.0   \n",
       "\n",
       "     stage_2_state  stage_2_rt  outcome  \n",
       "169            2.0       1.179      1.0  \n",
       "170            3.0       1.164      1.0  \n",
       "171            3.0       0.493      1.0  \n",
       "172            3.0       0.436      1.0  \n",
       "173            3.0       0.772      0.0  \n",
       "..             ...         ...      ...  \n",
       "363            2.0       0.324      0.0  \n",
       "364            3.0       1.828      1.0  \n",
       "365            3.0       0.860      1.0  \n",
       "366            3.0       0.845      0.0  \n",
       "367            2.0       1.445      1.0  \n",
       "\n",
       "[199 rows x 14 columns]"
      ]
     },
     "execution_count": 25,
     "metadata": {},
     "output_type": "execute_result"
    }
   ],
   "source": [
    "subdata"
   ]
  },
  {
   "cell_type": "code",
   "execution_count": 36,
   "metadata": {},
   "outputs": [],
   "source": [
    "r = subdata['outcome'].astype(int)\n",
    "Y1 = (subdata['stage_1_choice'] - 1).astype(int)\n",
    "Y2 = (subdata['stage_2_choice'] - 1).astype(int)\n",
    "S2 = (subdata[\"stage_2_state\"] - 2).astype(int)\n",
    "t = subdata['transition'].astype(int)\n",
    "T = len(subdata)"
   ]
  },
  {
   "cell_type": "code",
   "execution_count": 42,
   "metadata": {},
   "outputs": [],
   "source": [
    "# NOTE: haven't run whole block yet!\n",
    "#~~~~~~~~~~~~~~~~~~~~~~~~~~~~~~~~~~~~~~~~~~#\n",
    "### Fit Stan Model.\n",
    "#~~~~~~~~~~~~~~~~~~~~~~~~~~~~~~~~~~~~~~~~~~#\n",
    "\n",
    "## Assemble data.\n",
    "dd = dict(T=T, Y1=Y1, Y2=Y2, O=S2, reward=r)\n",
    "   \n",
    "## Load StanModel\n",
    "StanModel = load_model(PATH_NAME)\n",
    "\n",
    "# .optimize -- MAP estimation"
   ]
  },
  {
   "cell_type": "code",
   "execution_count": 43,
   "metadata": {},
   "outputs": [
    {
     "data": {
      "text/plain": [
       "OrderedDict([('eta1_pr', array(-0.33598916)),\n",
       "             ('eta2_pr', array(-0.36216315)),\n",
       "             ('beta1_pr', array(-2.11954778)),\n",
       "             ('beta2_pr', array(-2.78483893)),\n",
       "             ('w_pr', array(0.5270087)),\n",
       "             ('p_pr', array(0.00012109)),\n",
       "             ('eta1', array(0.36831494)),\n",
       "             ('eta2', array(0.3584855)),\n",
       "             ('beta1', array(0.33977671)),\n",
       "             ('beta2', array(0.05080411)),\n",
       "             ('w', array(0.70104458)),\n",
       "             ('p', array(0.50004836)),\n",
       "             ('Y1_pd', array(0.4983963)),\n",
       "             ('Y2_pd', array(0.49788694))])"
      ]
     },
     "execution_count": 43,
     "metadata": {},
     "output_type": "execute_result"
    }
   ],
   "source": [
    "StanModel.optimizing(data=dd)"
   ]
  },
  {
   "cell_type": "code",
   "execution_count": 44,
   "metadata": {},
   "outputs": [
    {
     "name": "stderr",
     "output_type": "stream",
     "text": [
      "WARNING:pystan:7 of 8000 iterations ended with a divergence (0.0875 %).\n",
      "WARNING:pystan:Try running with adapt_delta larger than 0.8 to remove the divergences.\n"
     ]
    }
   ],
   "source": [
    "## Fit model.\n",
    "StanFit = StanModel.sampling(data=dd, iter=samples, warmup=warmup, chains=chains, thin=thin, n_jobs=n_jobs, seed=44404)"
   ]
  },
  {
   "cell_type": "code",
   "execution_count": 45,
   "metadata": {},
   "outputs": [
    {
     "name": "stdout",
     "output_type": "stream",
     "text": [
      "Inference for Stan model: anon_model_bffbd421009e6eded8ba0311899b7864.\n",
      "4 chains, each with iter=4000; warmup=2000; thin=1; \n",
      "post-warmup draws per chain=2000, total post-warmup draws=8000.\n",
      "\n",
      "           mean se_mean     sd   2.5%    25%    50%    75%  97.5%  n_eff   Rhat\n",
      "eta1_pr   -1.17    0.03   1.38  -3.17  -2.35  -1.39  -0.12    1.6   2091    1.0\n",
      "eta2_pr   -0.97    0.03   1.44   -3.7  -1.97  -0.82   0.09   1.53   2466    1.0\n",
      "beta1_pr  -1.51    0.03   1.13  -3.15  -2.31  -1.82   -0.8   1.13   1768    1.0\n",
      "beta2_pr  -2.51    0.02    0.9  -3.73  -3.03   -2.7  -2.29    0.1   1669    1.0\n",
      "w_pr       0.44    0.02   1.02  -1.69  -0.21    0.5   1.12   2.34   4575    1.0\n",
      "p_pr     2.7e-4    0.01    1.0  -1.96  -0.68 9.9e-3   0.68   1.98   5007    1.0\n",
      "eta1       0.25  6.1e-3   0.31 6.6e-4 9.4e-3   0.08   0.45   0.95   2500    1.0\n",
      "eta2        0.3  4.7e-3    0.3 7.6e-5   0.02   0.21   0.54   0.94   4049    1.0\n",
      "beta1      3.22    0.11   4.88   0.01   0.21   0.69   4.21  17.41   1815    1.0\n",
      "beta2       0.9    0.07   2.69 1.3e-3   0.02   0.07   0.22  10.81   1642    1.0\n",
      "w          0.63  4.2e-3   0.28   0.05   0.42   0.69   0.87   0.99   4500    1.0\n",
      "p           0.5  4.1e-3   0.29   0.02   0.25    0.5   0.75   0.98   5013    1.0\n",
      "Y1_pd       0.5  2.4e-5 1.4e-3    0.5    0.5    0.5    0.5    0.5   3203    1.0\n",
      "Y2_pd       0.5  2.4e-5 2.2e-3   0.49    0.5    0.5    0.5    0.5   8373    1.0\n",
      "lp__     -286.8    0.03   1.75 -291.2 -287.8 -286.5 -285.6 -284.4   3227    1.0\n",
      "\n",
      "Samples were drawn using NUTS at Tue Jan 26 14:43:03 2021.\n",
      "For each parameter, n_eff is a crude measure of effective sample size,\n",
      "and Rhat is the potential scale reduction factor on split chains (at \n",
      "convergence, Rhat=1).\n"
     ]
    }
   ],
   "source": [
    "print(StanFit)"
   ]
  },
  {
   "cell_type": "markdown",
   "metadata": {},
   "source": [
    "# Single-Subject TDLR Fit"
   ]
  },
  {
   "cell_type": "code",
   "execution_count": 49,
   "metadata": {},
   "outputs": [],
   "source": [
    "PATH_NAME = '/Users/kierstenmarr/Desktop/TDLR'"
   ]
  },
  {
   "cell_type": "code",
   "execution_count": 50,
   "metadata": {},
   "outputs": [],
   "source": [
    "#~~~~~~~~~~~~~~~~~~~~~~~~~~~~~~~~~~~~~~~~~~#\n",
    "### Define parameters.\n",
    "#~~~~~~~~~~~~~~~~~~~~~~~~~~~~~~~~~~~~~~~~~~#\n",
    "\n",
    "## I/O parameters.\n",
    "stan_model = 'TDLR.stan'\n",
    "\n",
    "## Sampling parameters.\n",
    "samples = 4000\n",
    "warmup = 2000\n",
    "chains = 4\n",
    "thin = 1\n",
    "n_jobs = 4\n",
    "\n",
    "## Seed.\n",
    "seed = 0"
   ]
  },
  {
   "cell_type": "code",
   "execution_count": 51,
   "metadata": {},
   "outputs": [],
   "source": [
    "#~~~~~~~~~~~~~~~~~~~~~~~~~~~~~~~~~~~~~~~~~~#\n",
    "### Fit Stan Model.\n",
    "#~~~~~~~~~~~~~~~~~~~~~~~~~~~~~~~~~~~~~~~~~~#\n",
    "\n",
    "## Assemble data.\n",
    "dd = dict(T=T, Y1=Y1, Y2=Y2, O=S2, reward=r)\n",
    "   \n",
    "## Load StanModel\n",
    "StanModel = load_model(PATH_NAME)\n",
    "\n",
    "# .optimize -- MAP estimation"
   ]
  },
  {
   "cell_type": "code",
   "execution_count": null,
   "metadata": {},
   "outputs": [],
   "source": [
    "StanModel.optimizing(data=dd)"
   ]
  },
  {
   "cell_type": "code",
   "execution_count": 52,
   "metadata": {},
   "outputs": [],
   "source": [
    "## Fit model.\n",
    "StanFit = StanModel.sampling(data=dd, iter=samples, warmup=warmup, chains=chains, thin=thin, n_jobs=n_jobs, seed=44404)"
   ]
  },
  {
   "cell_type": "code",
   "execution_count": 53,
   "metadata": {},
   "outputs": [
    {
     "name": "stdout",
     "output_type": "stream",
     "text": [
      "Inference for Stan model: anon_model_7d0126e435e3cc097a74141d06c2b498.\n",
      "4 chains, each with iter=4000; warmup=2000; thin=1; \n",
      "post-warmup draws per chain=2000, total post-warmup draws=8000.\n",
      "\n",
      "           mean se_mean     sd   2.5%    25%    50%    75%  97.5%  n_eff   Rhat\n",
      "beta1_pr  -1.93  7.2e-3   0.45  -2.97   -2.2  -1.87  -1.61   -1.2   3948    1.0\n",
      "beta2_pr  -1.26  2.0e-3   0.14  -1.54  -1.35  -1.26  -1.17   -1.0   4638    1.0\n",
      "etaC_pr   -0.17  6.1e-3   0.41  -0.93  -0.44   -0.2   0.06   0.71   4604    1.0\n",
      "etaR_pr   -0.38  7.8e-3   0.56  -1.43  -0.74   -0.4  -0.07   0.85   5163    1.0\n",
      "beta1      0.76  8.3e-3   0.62   0.03   0.28   0.62   1.09   2.31   5644    1.0\n",
      "beta2      2.11  7.2e-3   0.49   1.24   1.76   2.08   2.42   3.17   4622    1.0\n",
      "etaC       0.43  2.1e-3   0.15   0.18   0.33   0.42   0.53   0.76   4824    1.0\n",
      "etaR       0.37  2.5e-3   0.18   0.08   0.23   0.34   0.47    0.8   5215    1.0\n",
      "Y1_pd       0.5  7.8e-6 6.0e-4    0.5    0.5    0.5    0.5    0.5   5955    1.0\n",
      "Y2_pd      0.58  1.7e-4   0.01   0.55   0.57   0.58   0.59   0.61   6098    1.0\n",
      "lp__     -262.5    0.03   1.62 -266.6 -263.3 -262.1 -261.3 -260.5   2874    1.0\n",
      "\n",
      "Samples were drawn using NUTS at Tue Jan 26 14:49:29 2021.\n",
      "For each parameter, n_eff is a crude measure of effective sample size,\n",
      "and Rhat is the potential scale reduction factor on split chains (at \n",
      "convergence, Rhat=1).\n"
     ]
    }
   ],
   "source": [
    "print(StanFit)"
   ]
  },
  {
   "cell_type": "markdown",
   "metadata": {},
   "source": [
    "# Single-Subject Hybrid Fit"
   ]
  },
  {
   "cell_type": "code",
   "execution_count": null,
   "metadata": {},
   "outputs": [],
   "source": [
    "PATH_NAME = '/Users/kierstenmarr/Desktop/hybrid'"
   ]
  },
  {
   "cell_type": "code",
   "execution_count": null,
   "metadata": {},
   "outputs": [],
   "source": [
    "#~~~~~~~~~~~~~~~~~~~~~~~~~~~~~~~~~~~~~~~~~~#\n",
    "### Define parameters.\n",
    "#~~~~~~~~~~~~~~~~~~~~~~~~~~~~~~~~~~~~~~~~~~#\n",
    "\n",
    "## I/O parameters.\n",
    "stan_model = 'hybrid.stan'\n",
    "\n",
    "## Sampling parameters.\n",
    "samples = 4000\n",
    "warmup = 2000\n",
    "chains = 4\n",
    "thin = 1\n",
    "n_jobs = 4\n",
    "\n",
    "## Seed.\n",
    "seed = 0"
   ]
  },
  {
   "cell_type": "code",
   "execution_count": null,
   "metadata": {},
   "outputs": [],
   "source": [
    "#~~~~~~~~~~~~~~~~~~~~~~~~~~~~~~~~~~~~~~~~~~#\n",
    "### Fit Stan Model.\n",
    "#~~~~~~~~~~~~~~~~~~~~~~~~~~~~~~~~~~~~~~~~~~#\n",
    "\n",
    "## Assemble data.\n",
    "dd = dict(T=T, Y1=Y1, Y2=Y2, O=S2, reward=r)\n",
    "   \n",
    "## Load StanModel\n",
    "StanModel = load_model(PATH_NAME)\n",
    "\n",
    "# .optimize -- MAP estimation"
   ]
  },
  {
   "cell_type": "code",
   "execution_count": null,
   "metadata": {},
   "outputs": [],
   "source": [
    "StanModel.optimizing(data=dd)"
   ]
  },
  {
   "cell_type": "code",
   "execution_count": null,
   "metadata": {},
   "outputs": [],
   "source": [
    "## Fit model.\n",
    "StanFit = StanModel.sampling(data=dd, iter=samples, warmup=warmup, chains=chains, thin=thin, n_jobs=n_jobs, seed=44404)"
   ]
  },
  {
   "cell_type": "code",
   "execution_count": null,
   "metadata": {},
   "outputs": [],
   "source": [
    "print(StanFit)"
   ]
  },
  {
   "cell_type": "code",
   "execution_count": null,
   "metadata": {},
   "outputs": [],
   "source": []
  },
  {
   "cell_type": "markdown",
   "metadata": {},
   "source": [
    "# Single-Subject MB Fit"
   ]
  },
  {
   "cell_type": "code",
   "execution_count": 54,
   "metadata": {},
   "outputs": [],
   "source": [
    "PATH_NAME = '/Users/kierstenmarr/Desktop/MB'"
   ]
  },
  {
   "cell_type": "code",
   "execution_count": 55,
   "metadata": {},
   "outputs": [],
   "source": [
    "#~~~~~~~~~~~~~~~~~~~~~~~~~~~~~~~~~~~~~~~~~~#\n",
    "### Define parameters.\n",
    "#~~~~~~~~~~~~~~~~~~~~~~~~~~~~~~~~~~~~~~~~~~#\n",
    "\n",
    "## I/O parameters.\n",
    "stan_model = 'MB.stan'\n",
    "\n",
    "## Sampling parameters.\n",
    "samples = 4000\n",
    "warmup = 2000\n",
    "chains = 4\n",
    "thin = 1\n",
    "n_jobs = 4\n",
    "\n",
    "## Seed.\n",
    "seed = 0"
   ]
  },
  {
   "cell_type": "code",
   "execution_count": 56,
   "metadata": {},
   "outputs": [
    {
     "name": "stderr",
     "output_type": "stream",
     "text": [
      "INFO:pystan:COMPILING THE C++ CODE FOR MODEL anon_model_fc6c8dade991164aefed5354789d4eed NOW.\n"
     ]
    }
   ],
   "source": [
    "#~~~~~~~~~~~~~~~~~~~~~~~~~~~~~~~~~~~~~~~~~~#\n",
    "### Fit Stan Model.\n",
    "#~~~~~~~~~~~~~~~~~~~~~~~~~~~~~~~~~~~~~~~~~~#\n",
    "\n",
    "## Assemble data.\n",
    "dd = dict(T=T, Y1=Y1, Y2=Y2, O=S2, reward=r)\n",
    "   \n",
    "## Load StanModel\n",
    "StanModel = load_model(PATH_NAME)\n",
    "\n",
    "# .optimize -- MAP estimation"
   ]
  },
  {
   "cell_type": "code",
   "execution_count": null,
   "metadata": {},
   "outputs": [],
   "source": [
    "StanModel.optimizing(data=dd)"
   ]
  },
  {
   "cell_type": "code",
   "execution_count": null,
   "metadata": {},
   "outputs": [],
   "source": [
    "## Fit model.\n",
    "StanFit = StanModel.sampling(data=dd, iter=samples, warmup=warmup, chains=chains, thin=thin, n_jobs=n_jobs, seed=44404)"
   ]
  },
  {
   "cell_type": "code",
   "execution_count": null,
   "metadata": {},
   "outputs": [],
   "source": [
    "print(StanFit)"
   ]
  },
  {
   "cell_type": "code",
   "execution_count": null,
   "metadata": {},
   "outputs": [],
   "source": []
  }
 ],
 "metadata": {
  "kernelspec": {
   "display_name": "Python 3",
   "language": "python",
   "name": "python3"
  },
  "language_info": {
   "codemirror_mode": {
    "name": "ipython",
    "version": 3
   },
   "file_extension": ".py",
   "mimetype": "text/x-python",
   "name": "python",
   "nbconvert_exporter": "python",
   "pygments_lexer": "ipython3",
   "version": "3.7.4"
  }
 },
 "nbformat": 4,
 "nbformat_minor": 2
}
