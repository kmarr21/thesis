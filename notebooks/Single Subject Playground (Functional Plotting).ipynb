{
 "cells": [
  {
   "cell_type": "code",
   "execution_count": 1,
   "metadata": {},
   "outputs": [],
   "source": [
    "import h5py, os, pystan\n",
    "import numpy as np\n",
    "from os.path import dirname\n",
    "import pandas as pd\n",
    "from pandas import DataFrame, read_csv, concat\n",
    "import matplotlib.pyplot as plt\n",
    "import seaborn as sns\n",
    "import scipy as sp"
   ]
  },
  {
   "cell_type": "code",
   "execution_count": 2,
   "metadata": {},
   "outputs": [],
   "source": [
    "df = pd.read_csv('two_step_data.txt')"
   ]
  },
  {
   "cell_type": "code",
   "execution_count": 3,
   "metadata": {},
   "outputs": [
    {
     "name": "stdout",
     "output_type": "stream",
     "text": [
      "                               subject  trial  drift_1  drift_2  drift_3  \\\n",
      "0       3018Q3ZVOIQGSXZ9L4SKHNWWZ1CRAO      1    0.743    0.273    0.717   \n",
      "1       3018Q3ZVOIQGSXZ9L4SKHNWWZ1CRAO      2    0.714    0.290    0.712   \n",
      "2       3018Q3ZVOIQGSXZ9L4SKHNWWZ1CRAO      3    0.709    0.346    0.714   \n",
      "3       3018Q3ZVOIQGSXZ9L4SKHNWWZ1CRAO      4    0.732    0.339    0.704   \n",
      "4       3018Q3ZVOIQGSXZ9L4SKHNWWZ1CRAO      5    0.717    0.408    0.722   \n",
      "...                                ...    ...      ...      ...      ...   \n",
      "341994  3ZY8KE4ISJ308KN7JKUG8K04OS9VQW    196    0.384    0.712    0.479   \n",
      "341995  3ZY8KE4ISJ308KN7JKUG8K04OS9VQW    197    0.373    0.734    0.460   \n",
      "341996  3ZY8KE4ISJ308KN7JKUG8K04OS9VQW    198    0.440    0.748    0.461   \n",
      "341997  3ZY8KE4ISJ308KN7JKUG8K04OS9VQW    199    0.471    0.737    0.468   \n",
      "341998  3ZY8KE4ISJ308KN7JKUG8K04OS9VQW    200    0.487    0.736    0.447   \n",
      "\n",
      "        drift_4  stage_1_choice  stage_1_rt  transition  stage_2_choice  \\\n",
      "0         0.479             NaN         NaN         NaN             NaN   \n",
      "1         0.456             1.0       0.444         1.0             1.0   \n",
      "2         0.466             1.0       0.459         0.0             1.0   \n",
      "3         0.386             1.0       0.409         1.0             1.0   \n",
      "4         0.422             1.0       0.356         1.0             1.0   \n",
      "...         ...             ...         ...         ...             ...   \n",
      "341994    0.387             1.0       0.449         0.0             1.0   \n",
      "341995    0.375             1.0       0.132         1.0             1.0   \n",
      "341996    0.410             1.0       0.838         0.0             1.0   \n",
      "341997    0.375             1.0       0.406         0.0             1.0   \n",
      "341998    0.403             2.0       0.510         1.0             2.0   \n",
      "\n",
      "        stage_2_state  stage_2_rt  outcome  \n",
      "0                 NaN         NaN      NaN  \n",
      "1                 2.0       1.566      1.0  \n",
      "2                 3.0       0.669      1.0  \n",
      "3                 2.0       0.491      1.0  \n",
      "4                 2.0       0.574      1.0  \n",
      "...               ...         ...      ...  \n",
      "341994            3.0       0.507      1.0  \n",
      "341995            2.0       0.432      1.0  \n",
      "341996            3.0       0.430      1.0  \n",
      "341997            3.0       0.396      0.0  \n",
      "341998            3.0       0.412      1.0  \n",
      "\n",
      "[341999 rows x 13 columns]\n"
     ]
    }
   ],
   "source": [
    "print(df)"
   ]
  },
  {
   "cell_type": "code",
   "execution_count": 4,
   "metadata": {},
   "outputs": [],
   "source": [
    "from tqdm import tqdm\n",
    "import seaborn as sns\n",
    "sns.set('notebook', style='white', font='sans-serif', font_scale=1.33)"
   ]
  },
  {
   "cell_type": "code",
   "execution_count": 5,
   "metadata": {},
   "outputs": [],
   "source": [
    "df = df.dropna()"
   ]
  },
  {
   "cell_type": "code",
   "execution_count": 16,
   "metadata": {},
   "outputs": [],
   "source": [
    "df.reset_index(inplace=True)"
   ]
  },
  {
   "cell_type": "code",
   "execution_count": 22,
   "metadata": {},
   "outputs": [],
   "source": [
    "subjects = df['subject']"
   ]
  },
  {
   "cell_type": "code",
   "execution_count": 24,
   "metadata": {},
   "outputs": [],
   "source": [
    "subdata = df.loc[df['subject'] == subjects[1]]"
   ]
  },
  {
   "cell_type": "code",
   "execution_count": 26,
   "metadata": {},
   "outputs": [
    {
     "data": {
      "text/plain": [
       "0      3018Q3ZVOIQGSXZ9L4SKHNWWZ1CRAO\n",
       "1      3018Q3ZVOIQGSXZ9L4SKHNWWZ1CRAO\n",
       "2      3018Q3ZVOIQGSXZ9L4SKHNWWZ1CRAO\n",
       "3      3018Q3ZVOIQGSXZ9L4SKHNWWZ1CRAO\n",
       "4      3018Q3ZVOIQGSXZ9L4SKHNWWZ1CRAO\n",
       "                    ...              \n",
       "164    3018Q3ZVOIQGSXZ9L4SKHNWWZ1CRAO\n",
       "165    3018Q3ZVOIQGSXZ9L4SKHNWWZ1CRAO\n",
       "166    3018Q3ZVOIQGSXZ9L4SKHNWWZ1CRAO\n",
       "167    3018Q3ZVOIQGSXZ9L4SKHNWWZ1CRAO\n",
       "168    3018Q3ZVOIQGSXZ9L4SKHNWWZ1CRAO\n",
       "Name: subject, Length: 169, dtype: object"
      ]
     },
     "execution_count": 26,
     "metadata": {},
     "output_type": "execute_result"
    }
   ],
   "source": [
    "subdata['subject']"
   ]
  },
  {
   "cell_type": "code",
   "execution_count": 59,
   "metadata": {},
   "outputs": [],
   "source": [
    "subs = np.unique(df['subject'])"
   ]
  },
  {
   "cell_type": "code",
   "execution_count": 62,
   "metadata": {},
   "outputs": [
    {
     "data": {
      "text/plain": [
       "1709"
      ]
     },
     "execution_count": 62,
     "metadata": {},
     "output_type": "execute_result"
    }
   ],
   "source": [
    "len(subs)"
   ]
  },
  {
   "cell_type": "code",
   "execution_count": 155,
   "metadata": {},
   "outputs": [],
   "source": [
    "data = []\n",
    "for s in subs[1550:1570]:\n",
    "    subdata = df.loc[df['subject'] == s]\n",
    "    \n",
    "    r = subdata['outcome']\n",
    "    Y1 = subdata['stage_1_choice'] - 1\n",
    "    transition = subdata['transition']\n",
    "    \n",
    "    t = np.where(Y1 == transition, 1, 0)\n",
    "    y1F = np.array(Y1[1:])\n",
    "    y1B = np.array(Y1[:-1])\n",
    "    \n",
    "    prev_R = np.roll(r, 1)[1:]\n",
    "    prev_T = np.roll(t, 1)[1:]\n",
    "    stay = np.where(y1B == y1F, 1, 0)\n",
    "    \n",
    "    g = DataFrame(np.column_stack([prev_R, prev_T, stay]), columns=['prev_R', 'prev_T', 'Stay'])\n",
    "    data.append(g)"
   ]
  },
  {
   "cell_type": "code",
   "execution_count": 156,
   "metadata": {},
   "outputs": [
    {
     "data": {
      "image/png": "[encoded data removed]",
      "text/plain": [
       "<Figure size 432x288 with 1 Axes>"
      ]
     },
     "metadata": {},
     "output_type": "display_data"
    }
   ],
   "source": [
    "## Concatenate DataFrames.\n",
    "data = concat(data)\n",
    "data.prev_R = data.prev_R.replace({1:'rewarded',0:'unrewarded'})\n",
    "data.prev_T = data.prev_T.replace({1:'common',0:'uncommon'})\n",
    "\n",
    "ax = sns.barplot('prev_R', 'Stay', 'prev_T', data=data, order=['rewarded','unrewarded'], \n",
    "                 hue_order=['common','uncommon'])\n",
    "\n",
    "ax.set(xticklabels=['Common','Rare'], xlabel='Transition', ylabel='Stay')\n",
    "ax.legend(loc=10, bbox_to_anchor=(1.25,0.5), frameon=False, title='Reward')\n",
    "\n",
    "sns.despine()\n",
    "plt.tight_layout()"
   ]
  },
  {
   "cell_type": "code",
   "execution_count": null,
   "metadata": {},
   "outputs": [],
   "source": []
  }
 ],
 "metadata": {
  "kernelspec": {
   "display_name": "Python 3",
   "language": "python",
   "name": "python3"
  },
  "language_info": {
   "codemirror_mode": {
    "name": "ipython",
    "version": 3
   },
   "file_extension": ".py",
   "mimetype": "text/x-python",
   "name": "python",
   "nbconvert_exporter": "python",
   "pygments_lexer": "ipython3",
   "version": "3.7.4"
  }
 },
 "nbformat": 4,
 "nbformat_minor": 2
}
