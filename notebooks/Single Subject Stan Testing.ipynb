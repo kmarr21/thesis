{
 "cells": [
  {
   "cell_type": "code",
   "execution_count": 1,
   "metadata": {},
   "outputs": [],
   "source": [
    "import h5py, os, pystan\n",
    "import numpy as np\n",
    "from os.path import dirname\n",
    "import pandas as pd\n",
    "from pandas import DataFrame, read_csv, concat\n",
    "import matplotlib.pyplot as plt\n",
    "import seaborn as sns\n",
    "import scipy as sp"
   ]
  },
  {
   "cell_type": "code",
   "execution_count": 2,
   "metadata": {},
   "outputs": [],
   "source": [
    "df = pd.read_csv('two_step_data.txt')"
   ]
  },
  {
   "cell_type": "code",
   "execution_count": 3,
   "metadata": {},
   "outputs": [
    {
     "name": "stdout",
     "output_type": "stream",
     "text": [
      "                               subject  trial  drift_1  drift_2  drift_3  \\\n",
      "0       3018Q3ZVOIQGSXZ9L4SKHNWWZ1CRAO      1    0.743    0.273    0.717   \n",
      "1       3018Q3ZVOIQGSXZ9L4SKHNWWZ1CRAO      2    0.714    0.290    0.712   \n",
      "2       3018Q3ZVOIQGSXZ9L4SKHNWWZ1CRAO      3    0.709    0.346    0.714   \n",
      "3       3018Q3ZVOIQGSXZ9L4SKHNWWZ1CRAO      4    0.732    0.339    0.704   \n",
      "4       3018Q3ZVOIQGSXZ9L4SKHNWWZ1CRAO      5    0.717    0.408    0.722   \n",
      "...                                ...    ...      ...      ...      ...   \n",
      "341994  3ZY8KE4ISJ308KN7JKUG8K04OS9VQW    196    0.384    0.712    0.479   \n",
      "341995  3ZY8KE4ISJ308KN7JKUG8K04OS9VQW    197    0.373    0.734    0.460   \n",
      "341996  3ZY8KE4ISJ308KN7JKUG8K04OS9VQW    198    0.440    0.748    0.461   \n",
      "341997  3ZY8KE4ISJ308KN7JKUG8K04OS9VQW    199    0.471    0.737    0.468   \n",
      "341998  3ZY8KE4ISJ308KN7JKUG8K04OS9VQW    200    0.487    0.736    0.447   \n",
      "\n",
      "        drift_4  stage_1_choice  stage_1_rt  transition  stage_2_choice  \\\n",
      "0         0.479             NaN         NaN         NaN             NaN   \n",
      "1         0.456             1.0       0.444         1.0             1.0   \n",
      "2         0.466             1.0       0.459         0.0             1.0   \n",
      "3         0.386             1.0       0.409         1.0             1.0   \n",
      "4         0.422             1.0       0.356         1.0             1.0   \n",
      "...         ...             ...         ...         ...             ...   \n",
      "341994    0.387             1.0       0.449         0.0             1.0   \n",
      "341995    0.375             1.0       0.132         1.0             1.0   \n",
      "341996    0.410             1.0       0.838         0.0             1.0   \n",
      "341997    0.375             1.0       0.406         0.0             1.0   \n",
      "341998    0.403             2.0       0.510         1.0             2.0   \n",
      "\n",
      "        stage_2_state  stage_2_rt  outcome  \n",
      "0                 NaN         NaN      NaN  \n",
      "1                 2.0       1.566      1.0  \n",
      "2                 3.0       0.669      1.0  \n",
      "3                 2.0       0.491      1.0  \n",
      "4                 2.0       0.574      1.0  \n",
      "...               ...         ...      ...  \n",
      "341994            3.0       0.507      1.0  \n",
      "341995            2.0       0.432      1.0  \n",
      "341996            3.0       0.430      1.0  \n",
      "341997            3.0       0.396      0.0  \n",
      "341998            3.0       0.412      1.0  \n",
      "\n",
      "[341999 rows x 13 columns]\n"
     ]
    }
   ],
   "source": [
    "print(df)"
   ]
  },
  {
   "cell_type": "code",
   "execution_count": 4,
   "metadata": {},
   "outputs": [],
   "source": [
    "from tqdm import tqdm\n",
    "import seaborn as sns\n",
    "sns.set('notebook', style='white', font='sans-serif', font_scale=1.33)"
   ]
  },
  {
   "cell_type": "code",
   "execution_count": 5,
   "metadata": {},
   "outputs": [],
   "source": [
    "df = df.dropna()"
   ]
  },
  {
   "cell_type": "code",
   "execution_count": 6,
   "metadata": {},
   "outputs": [],
   "source": [
    "df.reset_index(inplace=True)"
   ]
  },
  {
   "cell_type": "code",
   "execution_count": 7,
   "metadata": {},
   "outputs": [],
   "source": [
    "subjects = df['subject']"
   ]
  },
  {
   "cell_type": "code",
   "execution_count": 8,
   "metadata": {},
   "outputs": [],
   "source": [
    "subdata = df.loc[df['subject'] == subjects[1]]"
   ]
  },
  {
   "cell_type": "code",
   "execution_count": 9,
   "metadata": {},
   "outputs": [
    {
     "data": {
      "text/plain": [
       "0      3018Q3ZVOIQGSXZ9L4SKHNWWZ1CRAO\n",
       "1      3018Q3ZVOIQGSXZ9L4SKHNWWZ1CRAO\n",
       "2      3018Q3ZVOIQGSXZ9L4SKHNWWZ1CRAO\n",
       "3      3018Q3ZVOIQGSXZ9L4SKHNWWZ1CRAO\n",
       "4      3018Q3ZVOIQGSXZ9L4SKHNWWZ1CRAO\n",
       "                    ...              \n",
       "164    3018Q3ZVOIQGSXZ9L4SKHNWWZ1CRAO\n",
       "165    3018Q3ZVOIQGSXZ9L4SKHNWWZ1CRAO\n",
       "166    3018Q3ZVOIQGSXZ9L4SKHNWWZ1CRAO\n",
       "167    3018Q3ZVOIQGSXZ9L4SKHNWWZ1CRAO\n",
       "168    3018Q3ZVOIQGSXZ9L4SKHNWWZ1CRAO\n",
       "Name: subject, Length: 169, dtype: object"
      ]
     },
     "execution_count": 9,
     "metadata": {},
     "output_type": "execute_result"
    }
   ],
   "source": [
    "subdata['subject']"
   ]
  },
  {
   "cell_type": "code",
   "execution_count": 10,
   "metadata": {},
   "outputs": [],
   "source": [
    "subs = np.unique(df['subject'])"
   ]
  },
  {
   "cell_type": "code",
   "execution_count": 11,
   "metadata": {},
   "outputs": [
    {
     "data": {
      "text/plain": [
       "1709"
      ]
     },
     "execution_count": 11,
     "metadata": {},
     "output_type": "execute_result"
    }
   ],
   "source": [
    "len(subs)"
   ]
  },
  {
   "cell_type": "code",
   "execution_count": 12,
   "metadata": {},
   "outputs": [
    {
     "name": "stderr",
     "output_type": "stream",
     "text": [
      "INFO:numexpr.utils:NumExpr defaulting to 8 threads.\n"
     ]
    }
   ],
   "source": [
    "data = []\n",
    "for s in subs[1550:1570]:\n",
    "    subdata = df.loc[df['subject'] == s]\n",
    "    \n",
    "    r = subdata['outcome']\n",
    "    Y1 = subdata['stage_1_choice'] - 1\n",
    "    transition = subdata['transition']\n",
    "    \n",
    "    t = np.where(Y1 == transition, 1, 0)\n",
    "    y1F = np.array(Y1[1:])\n",
    "    y1B = np.array(Y1[:-1])\n",
    "    \n",
    "    prev_R = np.roll(r, 1)[1:]\n",
    "    prev_T = np.roll(t, 1)[1:]\n",
    "    stay = np.where(y1B == y1F, 1, 0)\n",
    "    \n",
    "    g = DataFrame(np.column_stack([prev_R, prev_T, stay]), columns=['prev_R', 'prev_T', 'Stay'])\n",
    "    data.append(g)"
   ]
  },
  {
   "cell_type": "code",
   "execution_count": 13,
   "metadata": {},
   "outputs": [
    {
     "data": {
      "image/png": "[encoded data removed]",
      "text/plain": [
       "<Figure size 432x288 with 1 Axes>"
      ]
     },
     "metadata": {},
     "output_type": "display_data"
    }
   ],
   "source": [
    "## Concatenate DataFrames.\n",
    "data = concat(data)\n",
    "data.prev_R = data.prev_R.replace({1:'rewarded',0:'unrewarded'})\n",
    "data.prev_T = data.prev_T.replace({1:'common',0:'uncommon'})\n",
    "\n",
    "ax = sns.barplot('prev_R', 'Stay', 'prev_T', data=data, order=['rewarded','unrewarded'], \n",
    "                 hue_order=['common','uncommon'])\n",
    "\n",
    "ax.set(xticklabels=['Common','Rare'], xlabel='Transition', ylabel='Stay')\n",
    "ax.legend(loc=10, bbox_to_anchor=(1.25,0.5), frameon=False, title='Reward')\n",
    "\n",
    "sns.despine()\n",
    "plt.tight_layout()"
   ]
  },
  {
   "cell_type": "markdown",
   "metadata": {},
   "source": [
    "# Stan Testing"
   ]
  },
  {
   "cell_type": "code",
   "execution_count": 15,
   "metadata": {},
   "outputs": [],
   "source": [
    "import os, pystan\n",
    "import _pickle as pickle\n",
    "\n",
    "def load_model(filepath):\n",
    "    \"\"\"Load or precomplile a StanModel object.\n",
    "    Parameters\n",
    "    ----------\n",
    "    filepath : str\n",
    "        Path to the Stan model.\n",
    "    Returns\n",
    "    -------\n",
    "    StanModel : pystan.StanModel\n",
    "        Model described in Stan’s modeling language compiled from C++ code.\n",
    "    Notes\n",
    "    -----\n",
    "    If an extensionless filepath is supplied, looks for *.stan or *.txt files for StanCode \n",
    "    and *.pkl and *.pickle for StanModels. Otherwise requires a file with one of those four extensions.\n",
    "    \"\"\"\n",
    "\n",
    "    for ext in ['.pkl','.pickle','.stan','.txt']:\n",
    "\n",
    "        if filepath.endswith(ext):\n",
    "            break\n",
    "        elif os.path.isfile(filepath + ext):\n",
    "            filepath += ext\n",
    "            break\n",
    "\n",
    "    if filepath.lower().endswith(('.pkl','.pickle')):\n",
    "\n",
    "        ## Load pickle object.\n",
    "        StanModel = pickle.load(open(filepath, 'rb'))\n",
    "\n",
    "    elif filepath.lower().endswith(('.stan','.txt')):\n",
    "\n",
    "        ## Precompile StanModel.\n",
    "        StanModel = pystan.StanModel(file=filepath)\n",
    "\n",
    "        ## Dump to pickle object.\n",
    "        f = '.'.join(filepath.split('.')[:-1]) + '.pkl'\n",
    "        with open(f, 'wb') as f: pickle.dump(StanModel, f)\n",
    "\n",
    "    else:\n",
    "\n",
    "        raise IOError('%s not correct filetype.' %filepath)\n",
    "\n",
    "    return StanModel"
   ]
  },
  {
   "cell_type": "code",
   "execution_count": 16,
   "metadata": {},
   "outputs": [],
   "source": [
    "PATH_NAME = '/Users/kierstenmarr/Desktop/EA'"
   ]
  },
  {
   "cell_type": "code",
   "execution_count": 17,
   "metadata": {},
   "outputs": [],
   "source": [
    "#~~~~~~~~~~~~~~~~~~~~~~~~~~~~~~~~~~~~~~~~~~#\n",
    "### Define parameters.\n",
    "#~~~~~~~~~~~~~~~~~~~~~~~~~~~~~~~~~~~~~~~~~~#\n",
    "\n",
    "## I/O parameters.\n",
    "stan_model = 'EA.stan'\n",
    "\n",
    "## Sampling parameters.\n",
    "samples = 4000\n",
    "warmup = 2000\n",
    "chains = 4\n",
    "thin = 1\n",
    "n_jobs = 4\n",
    "\n",
    "## Seed.\n",
    "seed = 0"
   ]
  },
  {
   "cell_type": "code",
   "execution_count": 24,
   "metadata": {},
   "outputs": [],
   "source": [
    "subdata = df.loc[df['subject'] == subs[1]]"
   ]
  },
  {
   "cell_type": "code",
   "execution_count": 25,
   "metadata": {},
   "outputs": [
    {
     "data": {
      "text/html": [
       "<div>\n",
       "<style scoped>\n",
       "    .dataframe tbody tr th:only-of-type {\n",
       "        vertical-align: middle;\n",
       "    }\n",
       "\n",
       "    .dataframe tbody tr th {\n",
       "        vertical-align: top;\n",
       "    }\n",
       "\n",
       "    .dataframe thead th {\n",
       "        text-align: right;\n",
       "    }\n",
       "</style>\n",
       "<table border=\"1\" class=\"dataframe\">\n",
       "  <thead>\n",
       "    <tr style=\"text-align: right;\">\n",
       "      <th></th>\n",
       "      <th>index</th>\n",
       "      <th>subject</th>\n",
       "      <th>trial</th>\n",
       "      <th>drift_1</th>\n",
       "      <th>drift_2</th>\n",
       "      <th>drift_3</th>\n",
       "      <th>drift_4</th>\n",
       "      <th>stage_1_choice</th>\n",
       "      <th>stage_1_rt</th>\n",
       "      <th>transition</th>\n",
       "      <th>stage_2_choice</th>\n",
       "      <th>stage_2_state</th>\n",
       "      <th>stage_2_rt</th>\n",
       "      <th>outcome</th>\n",
       "    </tr>\n",
       "  </thead>\n",
       "  <tbody>\n",
       "    <tr>\n",
       "      <td>169</td>\n",
       "      <td>200</td>\n",
       "      <td>304SM51WA34XCM4E67SL28LY2UCBS4</td>\n",
       "      <td>1</td>\n",
       "      <td>0.743</td>\n",
       "      <td>0.273</td>\n",
       "      <td>0.717</td>\n",
       "      <td>0.479</td>\n",
       "      <td>1.0</td>\n",
       "      <td>2.196</td>\n",
       "      <td>1.0</td>\n",
       "      <td>1.0</td>\n",
       "      <td>2.0</td>\n",
       "      <td>1.179</td>\n",
       "      <td>1.0</td>\n",
       "    </tr>\n",
       "    <tr>\n",
       "      <td>170</td>\n",
       "      <td>201</td>\n",
       "      <td>304SM51WA34XCM4E67SL28LY2UCBS4</td>\n",
       "      <td>2</td>\n",
       "      <td>0.714</td>\n",
       "      <td>0.290</td>\n",
       "      <td>0.712</td>\n",
       "      <td>0.456</td>\n",
       "      <td>2.0</td>\n",
       "      <td>1.241</td>\n",
       "      <td>1.0</td>\n",
       "      <td>1.0</td>\n",
       "      <td>3.0</td>\n",
       "      <td>1.164</td>\n",
       "      <td>1.0</td>\n",
       "    </tr>\n",
       "    <tr>\n",
       "      <td>171</td>\n",
       "      <td>202</td>\n",
       "      <td>304SM51WA34XCM4E67SL28LY2UCBS4</td>\n",
       "      <td>3</td>\n",
       "      <td>0.709</td>\n",
       "      <td>0.346</td>\n",
       "      <td>0.714</td>\n",
       "      <td>0.466</td>\n",
       "      <td>2.0</td>\n",
       "      <td>0.994</td>\n",
       "      <td>1.0</td>\n",
       "      <td>1.0</td>\n",
       "      <td>3.0</td>\n",
       "      <td>0.493</td>\n",
       "      <td>1.0</td>\n",
       "    </tr>\n",
       "    <tr>\n",
       "      <td>172</td>\n",
       "      <td>203</td>\n",
       "      <td>304SM51WA34XCM4E67SL28LY2UCBS4</td>\n",
       "      <td>4</td>\n",
       "      <td>0.732</td>\n",
       "      <td>0.339</td>\n",
       "      <td>0.704</td>\n",
       "      <td>0.386</td>\n",
       "      <td>2.0</td>\n",
       "      <td>0.553</td>\n",
       "      <td>1.0</td>\n",
       "      <td>1.0</td>\n",
       "      <td>3.0</td>\n",
       "      <td>0.436</td>\n",
       "      <td>1.0</td>\n",
       "    </tr>\n",
       "    <tr>\n",
       "      <td>173</td>\n",
       "      <td>204</td>\n",
       "      <td>304SM51WA34XCM4E67SL28LY2UCBS4</td>\n",
       "      <td>5</td>\n",
       "      <td>0.717</td>\n",
       "      <td>0.408</td>\n",
       "      <td>0.722</td>\n",
       "      <td>0.422</td>\n",
       "      <td>1.0</td>\n",
       "      <td>0.530</td>\n",
       "      <td>0.0</td>\n",
       "      <td>1.0</td>\n",
       "      <td>3.0</td>\n",
       "      <td>0.772</td>\n",
       "      <td>0.0</td>\n",
       "    </tr>\n",
       "    <tr>\n",
       "      <td>...</td>\n",
       "      <td>...</td>\n",
       "      <td>...</td>\n",
       "      <td>...</td>\n",
       "      <td>...</td>\n",
       "      <td>...</td>\n",
       "      <td>...</td>\n",
       "      <td>...</td>\n",
       "      <td>...</td>\n",
       "      <td>...</td>\n",
       "      <td>...</td>\n",
       "      <td>...</td>\n",
       "      <td>...</td>\n",
       "      <td>...</td>\n",
       "      <td>...</td>\n",
       "    </tr>\n",
       "    <tr>\n",
       "      <td>363</td>\n",
       "      <td>395</td>\n",
       "      <td>304SM51WA34XCM4E67SL28LY2UCBS4</td>\n",
       "      <td>196</td>\n",
       "      <td>0.384</td>\n",
       "      <td>0.712</td>\n",
       "      <td>0.479</td>\n",
       "      <td>0.387</td>\n",
       "      <td>2.0</td>\n",
       "      <td>0.520</td>\n",
       "      <td>0.0</td>\n",
       "      <td>2.0</td>\n",
       "      <td>2.0</td>\n",
       "      <td>0.324</td>\n",
       "      <td>0.0</td>\n",
       "    </tr>\n",
       "    <tr>\n",
       "      <td>364</td>\n",
       "      <td>396</td>\n",
       "      <td>304SM51WA34XCM4E67SL28LY2UCBS4</td>\n",
       "      <td>197</td>\n",
       "      <td>0.373</td>\n",
       "      <td>0.734</td>\n",
       "      <td>0.460</td>\n",
       "      <td>0.375</td>\n",
       "      <td>2.0</td>\n",
       "      <td>1.593</td>\n",
       "      <td>1.0</td>\n",
       "      <td>2.0</td>\n",
       "      <td>3.0</td>\n",
       "      <td>1.828</td>\n",
       "      <td>1.0</td>\n",
       "    </tr>\n",
       "    <tr>\n",
       "      <td>365</td>\n",
       "      <td>397</td>\n",
       "      <td>304SM51WA34XCM4E67SL28LY2UCBS4</td>\n",
       "      <td>198</td>\n",
       "      <td>0.440</td>\n",
       "      <td>0.748</td>\n",
       "      <td>0.461</td>\n",
       "      <td>0.410</td>\n",
       "      <td>2.0</td>\n",
       "      <td>0.538</td>\n",
       "      <td>1.0</td>\n",
       "      <td>2.0</td>\n",
       "      <td>3.0</td>\n",
       "      <td>0.860</td>\n",
       "      <td>1.0</td>\n",
       "    </tr>\n",
       "    <tr>\n",
       "      <td>366</td>\n",
       "      <td>398</td>\n",
       "      <td>304SM51WA34XCM4E67SL28LY2UCBS4</td>\n",
       "      <td>199</td>\n",
       "      <td>0.471</td>\n",
       "      <td>0.737</td>\n",
       "      <td>0.468</td>\n",
       "      <td>0.375</td>\n",
       "      <td>2.0</td>\n",
       "      <td>1.138</td>\n",
       "      <td>1.0</td>\n",
       "      <td>2.0</td>\n",
       "      <td>3.0</td>\n",
       "      <td>0.845</td>\n",
       "      <td>0.0</td>\n",
       "    </tr>\n",
       "    <tr>\n",
       "      <td>367</td>\n",
       "      <td>399</td>\n",
       "      <td>304SM51WA34XCM4E67SL28LY2UCBS4</td>\n",
       "      <td>200</td>\n",
       "      <td>0.487</td>\n",
       "      <td>0.736</td>\n",
       "      <td>0.447</td>\n",
       "      <td>0.403</td>\n",
       "      <td>2.0</td>\n",
       "      <td>0.898</td>\n",
       "      <td>0.0</td>\n",
       "      <td>1.0</td>\n",
       "      <td>2.0</td>\n",
       "      <td>1.445</td>\n",
       "      <td>1.0</td>\n",
       "    </tr>\n",
       "  </tbody>\n",
       "</table>\n",
       "<p>199 rows × 14 columns</p>\n",
       "</div>"
      ],
      "text/plain": [
       "     index                         subject  trial  drift_1  drift_2  drift_3  \\\n",
       "169    200  304SM51WA34XCM4E67SL28LY2UCBS4      1    0.743    0.273    0.717   \n",
       "170    201  304SM51WA34XCM4E67SL28LY2UCBS4      2    0.714    0.290    0.712   \n",
       "171    202  304SM51WA34XCM4E67SL28LY2UCBS4      3    0.709    0.346    0.714   \n",
       "172    203  304SM51WA34XCM4E67SL28LY2UCBS4      4    0.732    0.339    0.704   \n",
       "173    204  304SM51WA34XCM4E67SL28LY2UCBS4      5    0.717    0.408    0.722   \n",
       "..     ...                             ...    ...      ...      ...      ...   \n",
       "363    395  304SM51WA34XCM4E67SL28LY2UCBS4    196    0.384    0.712    0.479   \n",
       "364    396  304SM51WA34XCM4E67SL28LY2UCBS4    197    0.373    0.734    0.460   \n",
       "365    397  304SM51WA34XCM4E67SL28LY2UCBS4    198    0.440    0.748    0.461   \n",
       "366    398  304SM51WA34XCM4E67SL28LY2UCBS4    199    0.471    0.737    0.468   \n",
       "367    399  304SM51WA34XCM4E67SL28LY2UCBS4    200    0.487    0.736    0.447   \n",
       "\n",
       "     drift_4  stage_1_choice  stage_1_rt  transition  stage_2_choice  \\\n",
       "169    0.479             1.0       2.196         1.0             1.0   \n",
       "170    0.456             2.0       1.241         1.0             1.0   \n",
       "171    0.466             2.0       0.994         1.0             1.0   \n",
       "172    0.386             2.0       0.553         1.0             1.0   \n",
       "173    0.422             1.0       0.530         0.0             1.0   \n",
       "..       ...             ...         ...         ...             ...   \n",
       "363    0.387             2.0       0.520         0.0             2.0   \n",
       "364    0.375             2.0       1.593         1.0             2.0   \n",
       "365    0.410             2.0       0.538         1.0             2.0   \n",
       "366    0.375             2.0       1.138         1.0             2.0   \n",
       "367    0.403             2.0       0.898         0.0             1.0   \n",
       "\n",
       "     stage_2_state  stage_2_rt  outcome  \n",
       "169            2.0       1.179      1.0  \n",
       "170            3.0       1.164      1.0  \n",
       "171            3.0       0.493      1.0  \n",
       "172            3.0       0.436      1.0  \n",
       "173            3.0       0.772      0.0  \n",
       "..             ...         ...      ...  \n",
       "363            2.0       0.324      0.0  \n",
       "364            3.0       1.828      1.0  \n",
       "365            3.0       0.860      1.0  \n",
       "366            3.0       0.845      0.0  \n",
       "367            2.0       1.445      1.0  \n",
       "\n",
       "[199 rows x 14 columns]"
      ]
     },
     "execution_count": 25,
     "metadata": {},
     "output_type": "execute_result"
    }
   ],
   "source": [
    "subdata"
   ]
  },
  {
   "cell_type": "code",
   "execution_count": 41,
   "metadata": {},
   "outputs": [],
   "source": [
    "r = subdata['outcome'].astype(int)\n",
    "Y1 = (subdata['stage_1_choice'] - 1).astype(int)\n",
    "Y2 = (subdata['stage_2_choice'] - 1).astype(int)\n",
    "S2 = (subdata[\"stage_2_state\"] - 2).astype(int)\n",
    "transition = subdata['transition'].astype(int)\n",
    "t = (np.where(Y1 == transition, 1, 0)).astype(int)\n",
    "T = len(subdata)"
   ]
  },
  {
   "cell_type": "code",
   "execution_count": 42,
   "metadata": {},
   "outputs": [],
   "source": [
    "# NOTE: haven't run whole block yet!\n",
    "#~~~~~~~~~~~~~~~~~~~~~~~~~~~~~~~~~~~~~~~~~~#\n",
    "### Fit Stan Model.\n",
    "#~~~~~~~~~~~~~~~~~~~~~~~~~~~~~~~~~~~~~~~~~~#\n",
    "\n",
    "## Assemble data.\n",
    "dd = dict(T=T, Y1=Y1, Y2=Y2, O=S2, reward=r)\n",
    "   \n",
    "## Load StanModel\n",
    "StanModel = load_model(PATH_NAME)\n",
    "\n",
    "# .optimize -- MAP estimation"
   ]
  },
  {
   "cell_type": "code",
   "execution_count": 43,
   "metadata": {},
   "outputs": [
    {
     "data": {
      "text/plain": [
       "OrderedDict([('eta1_pr', array(-0.33598916)),\n",
       "             ('eta2_pr', array(-0.36216315)),\n",
       "             ('beta1_pr', array(-2.11954778)),\n",
       "             ('beta2_pr', array(-2.78483893)),\n",
       "             ('w_pr', array(0.5270087)),\n",
       "             ('p_pr', array(0.00012109)),\n",
       "             ('eta1', array(0.36831494)),\n",
       "             ('eta2', array(0.3584855)),\n",
       "             ('beta1', array(0.33977671)),\n",
       "             ('beta2', array(0.05080411)),\n",
       "             ('w', array(0.70104458)),\n",
       "             ('p', array(0.50004836)),\n",
       "             ('Y1_pd', array(0.4983963)),\n",
       "             ('Y2_pd', array(0.49788694))])"
      ]
     },
     "execution_count": 43,
     "metadata": {},
     "output_type": "execute_result"
    }
   ],
   "source": [
    "StanModel.optimizing(data=dd)"
   ]
  },
  {
   "cell_type": "code",
   "execution_count": 44,
   "metadata": {},
   "outputs": [
    {
     "name": "stderr",
     "output_type": "stream",
     "text": [
      "WARNING:pystan:7 of 8000 iterations ended with a divergence (0.0875 %).\n",
      "WARNING:pystan:Try running with adapt_delta larger than 0.8 to remove the divergences.\n"
     ]
    }
   ],
   "source": [
    "## Fit model.\n",
    "StanFit = StanModel.sampling(data=dd, iter=samples, warmup=warmup, chains=chains, thin=thin, n_jobs=n_jobs, seed=44404)"
   ]
  },
  {
   "cell_type": "code",
   "execution_count": 45,
   "metadata": {},
   "outputs": [
    {
     "name": "stdout",
     "output_type": "stream",
     "text": [
      "Inference for Stan model: anon_model_bffbd421009e6eded8ba0311899b7864.\n",
      "4 chains, each with iter=4000; warmup=2000; thin=1; \n",
      "post-warmup draws per chain=2000, total post-warmup draws=8000.\n",
      "\n",
      "           mean se_mean     sd   2.5%    25%    50%    75%  97.5%  n_eff   Rhat\n",
      "eta1_pr   -1.17    0.03   1.38  -3.17  -2.35  -1.39  -0.12    1.6   2091    1.0\n",
      "eta2_pr   -0.97    0.03   1.44   -3.7  -1.97  -0.82   0.09   1.53   2466    1.0\n",
      "beta1_pr  -1.51    0.03   1.13  -3.15  -2.31  -1.82   -0.8   1.13   1768    1.0\n",
      "beta2_pr  -2.51    0.02    0.9  -3.73  -3.03   -2.7  -2.29    0.1   1669    1.0\n",
      "w_pr       0.44    0.02   1.02  -1.69  -0.21    0.5   1.12   2.34   4575    1.0\n",
      "p_pr     2.7e-4    0.01    1.0  -1.96  -0.68 9.9e-3   0.68   1.98   5007    1.0\n",
      "eta1       0.25  6.1e-3   0.31 6.6e-4 9.4e-3   0.08   0.45   0.95   2500    1.0\n",
      "eta2        0.3  4.7e-3    0.3 7.6e-5   0.02   0.21   0.54   0.94   4049    1.0\n",
      "beta1      3.22    0.11   4.88   0.01   0.21   0.69   4.21  17.41   1815    1.0\n",
      "beta2       0.9    0.07   2.69 1.3e-3   0.02   0.07   0.22  10.81   1642    1.0\n",
      "w          0.63  4.2e-3   0.28   0.05   0.42   0.69   0.87   0.99   4500    1.0\n",
      "p           0.5  4.1e-3   0.29   0.02   0.25    0.5   0.75   0.98   5013    1.0\n",
      "Y1_pd       0.5  2.4e-5 1.4e-3    0.5    0.5    0.5    0.5    0.5   3203    1.0\n",
      "Y2_pd       0.5  2.4e-5 2.2e-3   0.49    0.5    0.5    0.5    0.5   8373    1.0\n",
      "lp__     -286.8    0.03   1.75 -291.2 -287.8 -286.5 -285.6 -284.4   3227    1.0\n",
      "\n",
      "Samples were drawn using NUTS at Tue Jan 26 14:43:03 2021.\n",
      "For each parameter, n_eff is a crude measure of effective sample size,\n",
      "and Rhat is the potential scale reduction factor on split chains (at \n",
      "convergence, Rhat=1).\n"
     ]
    }
   ],
   "source": [
    "print(StanFit)"
   ]
  },
  {
   "cell_type": "code",
   "execution_count": null,
   "metadata": {},
   "outputs": [],
   "source": []
  },
  {
   "cell_type": "code",
   "execution_count": null,
   "metadata": {},
   "outputs": [],
   "source": []
  },
  {
   "cell_type": "code",
   "execution_count": null,
   "metadata": {},
   "outputs": [],
   "source": []
  }
 ],
 "metadata": {
  "kernelspec": {
   "display_name": "Python 3",
   "language": "python",
   "name": "python3"
  },
  "language_info": {
   "codemirror_mode": {
    "name": "ipython",
    "version": 3
   },
   "file_extension": ".py",
   "mimetype": "text/x-python",
   "name": "python",
   "nbconvert_exporter": "python",
   "pygments_lexer": "ipython3",
   "version": "3.7.4"
  }
 },
 "nbformat": 4,
 "nbformat_minor": 2
}
