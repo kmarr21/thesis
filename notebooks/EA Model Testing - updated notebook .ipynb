{
 "cells": [
  {
   "cell_type": "code",
   "execution_count": 1,
   "metadata": {},
   "outputs": [],
   "source": [
    "import h5py, os, pystan\n",
    "import numpy as np\n",
    "from os.path import dirname\n",
    "from pandas import DataFrame, read_csv, concat\n",
    "import matplotlib.pyplot as plt\n",
    "import seaborn as sns\n",
    "import scipy as sp"
   ]
  },
  {
   "cell_type": "code",
   "execution_count": 2,
   "metadata": {},
   "outputs": [],
   "source": [
    "import os, pystan\n",
    "import _pickle as pickle\n",
    "from pandas import DataFrame\n",
    "\n",
    "def load_model(filepath):\n",
    "    \"\"\"Load or precomplile a StanModel object.\n",
    "    Parameters\n",
    "    ----------\n",
    "    filepath : str\n",
    "        Path to the Stan model.\n",
    "    Returns\n",
    "    -------\n",
    "    StanModel : pystan.StanModel\n",
    "        Model described in Stan’s modeling language compiled from C++ code.\n",
    "    Notes\n",
    "    -----\n",
    "    If an extensionless filepath is supplied, looks for *.stan or *.txt files for StanCode \n",
    "    and *.pkl and *.pickle for StanModels. Otherwise requires a file with one of those four extensions.\n",
    "    \"\"\"\n",
    "\n",
    "    for ext in ['.pkl','.pickle','.stan','.txt']:\n",
    "\n",
    "        if filepath.endswith(ext):\n",
    "            break\n",
    "        elif os.path.isfile(filepath + ext):\n",
    "            filepath += ext\n",
    "            break\n",
    "\n",
    "    if filepath.lower().endswith(('.pkl','.pickle')):\n",
    "\n",
    "        ## Load pickle object.\n",
    "        StanModel = pickle.load(open(filepath, 'rb'))\n",
    "\n",
    "    elif filepath.lower().endswith(('.stan','.txt')):\n",
    "\n",
    "        ## Precompile StanModel.\n",
    "        StanModel = pystan.StanModel(file=filepath)\n",
    "\n",
    "        ## Dump to pickle object.\n",
    "        f = '.'.join(filepath.split('.')[:-1]) + '.pkl'\n",
    "        with open(f, 'wb') as f: pickle.dump(StanModel, f)\n",
    "\n",
    "    else:\n",
    "\n",
    "        raise IOError('%s not correct filetype.' %filepath)\n",
    "\n",
    "    return StanModel"
   ]
  },
  {
   "cell_type": "code",
   "execution_count": 3,
   "metadata": {},
   "outputs": [],
   "source": [
    "PATH_NAME = '/Users/kierstenmarr/Desktop/EA'"
   ]
  },
  {
   "cell_type": "code",
   "execution_count": 4,
   "metadata": {},
   "outputs": [],
   "source": [
    "#~~~~~~~~~~~~~~~~~~~~~~~~~~~~~~~~~~~~~~~~~~#\n",
    "### Define parameters.\n",
    "#~~~~~~~~~~~~~~~~~~~~~~~~~~~~~~~~~~~~~~~~~~#\n",
    "\n",
    "## I/O parameters.\n",
    "stan_model = 'EA'\n",
    "\n",
    "## Sampling parameters.\n",
    "samples = 4000\n",
    "warmup = 2000\n",
    "chains = 4\n",
    "thin = 1\n",
    "n_jobs = 4\n",
    "\n",
    "## Seed.\n",
    "seed = 0"
   ]
  },
  {
   "cell_type": "code",
   "execution_count": 5,
   "metadata": {},
   "outputs": [],
   "source": [
    "from numba import njit\n",
    "\n",
    "@njit\n",
    "def inv_logit(arr):\n",
    "    \"\"\"Fast inverse logistic function.\"\"\"\n",
    "    return 1. / (1. + np.exp(-arr))"
   ]
  },
  {
   "cell_type": "code",
   "execution_count": 17,
   "metadata": {},
   "outputs": [],
   "source": [
    "class EA(object):\n",
    "    \n",
    "    def __init__(self, b1, b2, eta1, eta2, w, p):\n",
    "        \n",
    "        ## Define parameters.\n",
    "        self.b1 = b1\n",
    "        self.b2 = b2\n",
    "        self.eta1 = eta1\n",
    "        self.eta2 = eta2\n",
    "        self.w = w\n",
    "        self.p = p\n",
    "        \n",
    "        ## Initialize Q-values.\n",
    "        self.Qs1 = None\n",
    "        self.Qs2 = None\n",
    "        \n",
    "    def train(self, drifts, reset=False):\n",
    "        \n",
    "        ## Error-catching: rewards.\n",
    "        ##drifts = np.array(drifts)\n",
    "        \n",
    "        ## Initialize Q-values.\n",
    "        if self.Qs1 is None or reset:\n",
    "            self.Qs1 = 0.5 * np.ones(2)\n",
    "        \n",
    "        if self.Qs2 is None or reset:\n",
    "            self.Qs2 = 0.5 * np.ones((2,2))\n",
    "            \n",
    "        ## Preallocate space.\n",
    "        n_trials = drifts.shape[0]\n",
    "        Y = np.zeros((n_trials, 2), dtype=int)\n",
    "        t = np.zeros(n_trials, dtype=int)\n",
    "        r = np.zeros(n_trials, dtype=int)\n",
    "        X = np.zeros(n_trials, dtype=int)\n",
    "            \n",
    "        for i in range(n_trials):\n",
    "\n",
    "            theta1 = inv_logit( self.b1 * (self.Qs1[1] - self.Qs1[0]))\n",
    "            \n",
    "            ## Stage 1: Simulate choice.\n",
    "            Y[i,0] = np.random.binomial(1,theta1)\n",
    "            \n",
    "            ## Simulate transition.\n",
    "            t[i] = np.random.binomial(1, 0.7)\n",
    "            S = np.where(t[i], Y[i,0], 1-Y[i,0]) + 1\n",
    "            X[i] = S-1\n",
    "                        \n",
    "            ## Stage 2: Compute choice likelihood.\n",
    "            theta2 = inv_logit( self.b2 * (self.Qs2[X[i],1] - self.Qs2[X[i],0]) )\n",
    "            \n",
    "            ## Stage 2: Simulate choice.\n",
    "            Y[i,1] = np.random.binomial(1,theta2)\n",
    "            \n",
    "            ## Stage 2: Observe outcome.\n",
    "            #r[i] = R[i,S-1,Y[i,1]]\n",
    "            r[i] = np.random.binomial(1, drifts[i, S-1, Y[i,1]])\n",
    "            \n",
    "            ## Update stage 2 Q-values\n",
    "            self.Qs2[X[i], Y[i,1]] += self.eta2 * (r[i] - self.Qs2[X[i], Y[i,1]])\n",
    "            # where's eta1 in all this?\n",
    "            \n",
    "            if t[i]: cr = 0.7  # common transition\n",
    "            else: cr = 0.3     # rare transition\n",
    "            \n",
    "            ## Update Stage 1 Q-values\n",
    "            # Chosen action\n",
    "            deltaC = r[i] - self.Qs1[Y[i,0]]\n",
    "            self.Qs1[Y[i,0]] += self.eta1 * (self.w * cr * deltaC + (1 - self.w) * deltaC)\n",
    "            \n",
    "            # Unchosen action\n",
    "            deltaU = r[i] - self.Qs1[1 - Y[i,0]]\n",
    "            self.Qs1[1-Y[i,0]] += self.eta1 * self.w * (1-cr) * deltaU\n",
    "            \n",
    "        return Y, t, r, X"
   ]
  },
  {
   "cell_type": "code",
   "execution_count": 18,
   "metadata": {},
   "outputs": [],
   "source": [
    "from tqdm import tqdm"
   ]
  },
  {
   "cell_type": "code",
   "execution_count": 19,
   "metadata": {},
   "outputs": [
    {
     "name": "stderr",
     "output_type": "stream",
     "text": [
      "100%|██████████| 201/201 [00:01<00:00, 107.04it/s]\n"
     ]
    },
    {
     "data": {
      "image/png": "[encoded data removed]",
      "text/plain": [
       "<Figure size 432x288 with 1 Axes>"
      ]
     },
     "metadata": {
      "needs_background": "light"
     },
     "output_type": "display_data"
    }
   ],
   "source": [
    "np.random.seed(47404)\n",
    "\n",
    "## Define reward parameters.\n",
    "drifts = read_csv('drifts.txt', header=None).values.reshape(-1,2,2)\n",
    "T = drifts.shape[0]\n",
    "\n",
    "data = []\n",
    "for _ in tqdm(range(T)):\n",
    "    \n",
    "    ## Simulate outcomes.\n",
    "    ##R = np.random.binomial(1, [[0.5,0.5],[0.5,0.5]], (200,2,2))\n",
    "    \n",
    "    ## Initialize agent.\n",
    "    agent = EA(b1 = 7, b2 = 7, eta1 = 0.5, eta2 = 0.5, w = 0.5, p = 0.2)\n",
    "\n",
    "    ## Train agent.\n",
    "    Y, t, r, X = agent.train(drifts)\n",
    "    \n",
    "    ## Define variables.\n",
    "    prev_R = np.roll(r, 1)[1:]\n",
    "    prev_T = np.roll(t, 1)[1:]\n",
    "    stay = Y[:-1,0] == Y[1:,0]\n",
    "\n",
    "    ## Blah.\n",
    "    df = DataFrame(np.column_stack([prev_R, prev_T, stay]), columns=['prev_R', 'prev_T', 'Stay'])\n",
    "    data.append(df)\n",
    "    \n",
    "## Concatenate DataFrames.\n",
    "data = concat(data)\n",
    "data.prev_R = data.prev_R.replace({1:'rewarded',0:'unrewarded'})\n",
    "data.prev_T = data.prev_T.replace({1:'common',0:'uncommon'})\n",
    "\n",
    "ax = sns.barplot('prev_R', 'Stay', 'prev_T', data=data, order=['rewarded','unrewarded'], \n",
    "                 hue_order=['common','uncommon'])"
   ]
  },
  {
   "cell_type": "code",
   "execution_count": 9,
   "metadata": {},
   "outputs": [
    {
     "data": {
      "text/plain": [
       "array([0, 0, 1, 1, 1, 1, 0, 0, 0, 0, 1, 1, 1, 0, 1, 1, 0, 1, 0, 0, 0, 1,\n",
       "       1, 1, 0, 0, 1, 0, 0, 1, 1, 0, 0, 1, 1, 0, 1, 0, 0, 0, 0, 1, 0, 0,\n",
       "       0, 1, 0, 1, 1, 0, 1, 1, 0, 0, 1, 1, 0, 0, 1, 0, 0, 0, 0, 1, 1, 1,\n",
       "       0, 1, 1, 0, 0, 0, 0, 0, 0, 1, 0, 1, 0, 0, 0, 1, 0, 0, 1, 1, 1, 0,\n",
       "       1, 0, 0, 0, 0, 1, 0, 1, 0, 0, 1, 0, 0, 0, 0, 0, 1, 0, 1, 0, 0, 1,\n",
       "       0, 0, 0, 0, 1, 1, 1, 1, 1, 1, 0, 1, 1, 1, 1, 0, 0, 0, 1, 0, 0, 1,\n",
       "       0, 1, 1, 0, 0, 0, 1, 0, 0, 0, 0, 0, 0, 0, 0, 0, 0, 0, 0, 0, 0, 1,\n",
       "       0, 0, 0, 1, 0, 0, 0, 0, 0, 1, 0, 0, 1, 1, 0, 1, 0, 1, 0, 1, 1, 1,\n",
       "       0, 1, 0, 0, 0, 1, 1, 0, 1, 1, 0, 0, 0, 0, 0, 0, 1, 1, 0, 0, 0, 0,\n",
       "       1, 0, 1])"
      ]
     },
     "execution_count": 9,
     "metadata": {},
     "output_type": "execute_result"
    }
   ],
   "source": [
    "R = r.astype(int)\n",
    "R"
   ]
  },
  {
   "cell_type": "code",
   "execution_count": 10,
   "metadata": {},
   "outputs": [
    {
     "data": {
      "text/plain": [
       "array([1, 1, 1, 0, 0, 1, 1, 1, 1, 0, 0, 0, 0, 1, 0, 0, 1, 0, 0, 0, 0, 1,\n",
       "       1, 1, 1, 1, 0, 1, 1, 1, 1, 0, 1, 1, 1, 1, 1, 0, 0, 0, 0, 0, 0, 1,\n",
       "       1, 0, 0, 0, 1, 1, 1, 1, 0, 0, 1, 1, 0, 1, 0, 0, 0, 1, 1, 1, 0, 1,\n",
       "       1, 0, 0, 0, 0, 1, 0, 0, 0, 1, 1, 0, 1, 0, 1, 0, 1, 0, 1, 1, 1, 1,\n",
       "       0, 1, 0, 1, 0, 1, 0, 0, 1, 0, 1, 0, 0, 1, 0, 0, 1, 1, 1, 1, 0, 0,\n",
       "       0, 1, 0, 1, 0, 0, 0, 1, 0, 0, 1, 0, 1, 0, 1, 1, 1, 1, 1, 0, 1, 0,\n",
       "       0, 0, 0, 0, 1, 1, 1, 0, 0, 0, 0, 1, 1, 1, 0, 0, 0, 0, 0, 1, 0, 0,\n",
       "       0, 1, 0, 1, 0, 0, 0, 0, 0, 1, 1, 1, 1, 1, 1, 1, 0, 0, 1, 0, 1, 0,\n",
       "       0, 0, 0, 0, 1, 0, 1, 1, 1, 1, 0, 0, 1, 1, 0, 0, 0, 0, 0, 1, 0, 0,\n",
       "       1, 1, 1])"
      ]
     },
     "execution_count": 10,
     "metadata": {},
     "output_type": "execute_result"
    }
   ],
   "source": [
    "X"
   ]
  },
  {
   "cell_type": "code",
   "execution_count": 14,
   "metadata": {},
   "outputs": [
    {
     "data": {
      "text/plain": [
       "201"
      ]
     },
     "execution_count": 14,
     "metadata": {},
     "output_type": "execute_result"
    }
   ],
   "source": [
    "T"
   ]
  },
  {
   "cell_type": "code",
   "execution_count": 20,
   "metadata": {},
   "outputs": [
    {
     "data": {
      "text/plain": [
       "array([1, 0, 0, 1, 1, 0, 0, 0, 0, 1, 0, 1, 0, 0, 0, 1, 1, 0, 1, 1, 0, 0,\n",
       "       0, 0, 0, 1, 0, 0, 0, 0, 0, 1, 0, 0, 0, 0, 0, 1, 0, 1, 0, 1, 1, 0,\n",
       "       0, 1, 0, 0, 0, 0, 1, 0, 1, 0, 0, 0, 0, 0, 1, 1, 1, 1, 1, 0, 1, 0,\n",
       "       1, 1, 0, 0, 1, 0, 0, 1, 1, 0, 0, 0, 0, 0, 0, 0, 1, 1, 1, 0, 0, 0,\n",
       "       0, 0, 0, 0, 0, 1, 0, 1, 0, 1, 0, 0, 1, 1, 1, 0, 0, 0, 0, 0, 1, 0,\n",
       "       0, 0, 0, 0, 0, 0, 0, 0, 0, 1, 1, 1, 0, 0, 0, 0, 0, 0, 0, 1, 0, 1,\n",
       "       0, 0, 1, 0, 0, 0, 0, 1, 0, 0, 1, 0, 0, 0, 0, 1, 0, 0, 0, 1, 0, 0,\n",
       "       0, 1, 0, 1, 1, 1, 1, 0, 0, 1, 0, 0, 0, 0, 0, 0, 1, 1, 0, 0, 1, 0,\n",
       "       0, 0, 0, 0, 1, 1, 0, 1, 1, 1, 0, 1, 0, 0, 1, 0, 1, 0, 1, 1, 0, 0,\n",
       "       0, 0, 0])"
      ]
     },
     "execution_count": 20,
     "metadata": {},
     "output_type": "execute_result"
    }
   ],
   "source": [
    "r"
   ]
  },
  {
   "cell_type": "code",
   "execution_count": 23,
   "metadata": {},
   "outputs": [],
   "source": [
    "# NOTE: haven't run whole block yet!\n",
    "#~~~~~~~~~~~~~~~~~~~~~~~~~~~~~~~~~~~~~~~~~~#\n",
    "### Fit Stan Model.\n",
    "#~~~~~~~~~~~~~~~~~~~~~~~~~~~~~~~~~~~~~~~~~~#\n",
    "\n",
    "## Assemble data.\n",
    "dd = dict(T=T, Y=Y, O=t, reward=r)\n",
    "   \n",
    "## Load StanModel\n",
    "StanModel = load_model(PATH_NAME)\n",
    "\n",
    "# .optimize -- MAP estimation"
   ]
  },
  {
   "cell_type": "code",
   "execution_count": 24,
   "metadata": {},
   "outputs": [
    {
     "ename": "RuntimeError",
     "evalue": "Initialization failed.",
     "output_type": "error",
     "traceback": [
      "\u001b[0;31m---------------------------------------------------------------------------\u001b[0m",
      "\u001b[0;31mRuntimeError\u001b[0m                              Traceback (most recent call last)",
      "\u001b[0;32m<ipython-input-24-328cef966f1b>\u001b[0m in \u001b[0;36m<module>\u001b[0;34m\u001b[0m\n\u001b[0;32m----> 1\u001b[0;31m \u001b[0mStanModel\u001b[0m\u001b[0;34m.\u001b[0m\u001b[0moptimizing\u001b[0m\u001b[0;34m(\u001b[0m\u001b[0mdata\u001b[0m\u001b[0;34m=\u001b[0m\u001b[0mdd\u001b[0m\u001b[0;34m)\u001b[0m\u001b[0;34m\u001b[0m\u001b[0;34m\u001b[0m\u001b[0m\n\u001b[0m",
      "\u001b[0;32m/opt/anaconda3/lib/python3.7/site-packages/pystan/model.py\u001b[0m in \u001b[0;36moptimizing\u001b[0;34m(self, data, seed, init, sample_file, algorithm, verbose, as_vector, **kwargs)\u001b[0m\n\u001b[1;32m    579\u001b[0m         \u001b[0mstan_args\u001b[0m \u001b[0;34m=\u001b[0m \u001b[0mpystan\u001b[0m\u001b[0;34m.\u001b[0m\u001b[0mmisc\u001b[0m\u001b[0;34m.\u001b[0m\u001b[0m_get_valid_stan_args\u001b[0m\u001b[0;34m(\u001b[0m\u001b[0mstan_args\u001b[0m\u001b[0;34m)\u001b[0m\u001b[0;34m\u001b[0m\u001b[0;34m\u001b[0m\u001b[0m\n\u001b[1;32m    580\u001b[0m \u001b[0;34m\u001b[0m\u001b[0m\n\u001b[0;32m--> 581\u001b[0;31m         \u001b[0mret\u001b[0m\u001b[0;34m,\u001b[0m \u001b[0msample\u001b[0m \u001b[0;34m=\u001b[0m \u001b[0mfit\u001b[0m\u001b[0;34m.\u001b[0m\u001b[0m_call_sampler\u001b[0m\u001b[0;34m(\u001b[0m\u001b[0mstan_args\u001b[0m\u001b[0;34m)\u001b[0m\u001b[0;34m\u001b[0m\u001b[0;34m\u001b[0m\u001b[0m\n\u001b[0m\u001b[1;32m    582\u001b[0m         \u001b[0mpars\u001b[0m \u001b[0;34m=\u001b[0m \u001b[0mpystan\u001b[0m\u001b[0;34m.\u001b[0m\u001b[0mmisc\u001b[0m\u001b[0;34m.\u001b[0m\u001b[0m_par_vector2dict\u001b[0m\u001b[0;34m(\u001b[0m\u001b[0msample\u001b[0m\u001b[0;34m[\u001b[0m\u001b[0;34m'par'\u001b[0m\u001b[0;34m]\u001b[0m\u001b[0;34m,\u001b[0m \u001b[0mm_pars\u001b[0m\u001b[0;34m,\u001b[0m \u001b[0mp_dims\u001b[0m\u001b[0;34m)\u001b[0m\u001b[0;34m\u001b[0m\u001b[0;34m\u001b[0m\u001b[0m\n\u001b[1;32m    583\u001b[0m         \u001b[0;32mif\u001b[0m \u001b[0;32mnot\u001b[0m \u001b[0mas_vector\u001b[0m\u001b[0;34m:\u001b[0m\u001b[0;34m\u001b[0m\u001b[0;34m\u001b[0m\u001b[0m\n",
      "\u001b[0;32mstanfit4anon_model_a3a9f186d532553c0e215ff3e271378f_5623421336722386251.pyx\u001b[0m in \u001b[0;36mstanfit4anon_model_a3a9f186d532553c0e215ff3e271378f_5623421336722386251.StanFit4Model._call_sampler\u001b[0;34m()\u001b[0m\n",
      "\u001b[0;32mstanfit4anon_model_a3a9f186d532553c0e215ff3e271378f_5623421336722386251.pyx\u001b[0m in \u001b[0;36mstanfit4anon_model_a3a9f186d532553c0e215ff3e271378f_5623421336722386251._call_sampler\u001b[0;34m()\u001b[0m\n",
      "\u001b[0;31mRuntimeError\u001b[0m: Initialization failed."
     ]
    }
   ],
   "source": [
    "StanModel.optimizing(data=dd)"
   ]
  },
  {
   "cell_type": "code",
   "execution_count": null,
   "metadata": {},
   "outputs": [],
   "source": [
    "## Fit model.\n",
    "StanFit = StanModel.sampling(data=dd, iter=samples, warmup=warmup, chains=chains, thin=thin, n_jobs=n_jobs, seed=44404)"
   ]
  },
  {
   "cell_type": "code",
   "execution_count": null,
   "metadata": {},
   "outputs": [],
   "source": [
    "print(StanFit)"
   ]
  },
  {
   "cell_type": "code",
   "execution_count": null,
   "metadata": {},
   "outputs": [],
   "source": []
  },
  {
   "cell_type": "code",
   "execution_count": null,
   "metadata": {},
   "outputs": [],
   "source": []
  },
  {
   "cell_type": "code",
   "execution_count": null,
   "metadata": {},
   "outputs": [],
   "source": []
  },
  {
   "cell_type": "code",
   "execution_count": null,
   "metadata": {},
   "outputs": [],
   "source": []
  },
  {
   "cell_type": "code",
   "execution_count": null,
   "metadata": {},
   "outputs": [],
   "source": []
  }
 ],
 "metadata": {
  "kernelspec": {
   "display_name": "Python 3",
   "language": "python",
   "name": "python3"
  },
  "language_info": {
   "codemirror_mode": {
    "name": "ipython",
    "version": 3
   },
   "file_extension": ".py",
   "mimetype": "text/x-python",
   "name": "python",
   "nbconvert_exporter": "python",
   "pygments_lexer": "ipython3",
   "version": "3.7.4"
  }
 },
 "nbformat": 4,
 "nbformat_minor": 2
}
