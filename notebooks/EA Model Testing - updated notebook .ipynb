{
 "cells": [
  {
   "cell_type": "code",
   "execution_count": 1,
   "metadata": {},
   "outputs": [],
   "source": [
    "import h5py, os, pystan\n",
    "import numpy as np\n",
    "from os.path import dirname\n",
    "from pandas import DataFrame, read_csv, concat\n",
    "import matplotlib.pyplot as plt\n",
    "import seaborn as sns\n",
    "import scipy as sp"
   ]
  },
  {
   "cell_type": "code",
   "execution_count": 2,
   "metadata": {},
   "outputs": [],
   "source": [
    "import os, pystan\n",
    "import _pickle as pickle\n",
    "from pandas import DataFrame\n",
    "\n",
    "def load_model(filepath):\n",
    "    \"\"\"Load or precomplile a StanModel object.\n",
    "    Parameters\n",
    "    ----------\n",
    "    filepath : str\n",
    "        Path to the Stan model.\n",
    "    Returns\n",
    "    -------\n",
    "    StanModel : pystan.StanModel\n",
    "        Model described in Stan’s modeling language compiled from C++ code.\n",
    "    Notes\n",
    "    -----\n",
    "    If an extensionless filepath is supplied, looks for *.stan or *.txt files for StanCode \n",
    "    and *.pkl and *.pickle for StanModels. Otherwise requires a file with one of those four extensions.\n",
    "    \"\"\"\n",
    "\n",
    "    for ext in ['.pkl','.pickle','.stan','.txt']:\n",
    "\n",
    "        if filepath.endswith(ext):\n",
    "            break\n",
    "        elif os.path.isfile(filepath + ext):\n",
    "            filepath += ext\n",
    "            break\n",
    "\n",
    "    if filepath.lower().endswith(('.pkl','.pickle')):\n",
    "\n",
    "        ## Load pickle object.\n",
    "        StanModel = pickle.load(open(filepath, 'rb'))\n",
    "\n",
    "    elif filepath.lower().endswith(('.stan','.txt')):\n",
    "\n",
    "        ## Precompile StanModel.\n",
    "        StanModel = pystan.StanModel(file=filepath)\n",
    "\n",
    "        ## Dump to pickle object.\n",
    "        f = '.'.join(filepath.split('.')[:-1]) + '.pkl'\n",
    "        with open(f, 'wb') as f: pickle.dump(StanModel, f)\n",
    "\n",
    "    else:\n",
    "\n",
    "        raise IOError('%s not correct filetype.' %filepath)\n",
    "\n",
    "    return StanModel"
   ]
  },
  {
   "cell_type": "code",
   "execution_count": 3,
   "metadata": {},
   "outputs": [],
   "source": [
    "PATH_NAME = '/Users/kierstenmarr/Desktop/EA'"
   ]
  },
  {
   "cell_type": "code",
   "execution_count": 4,
   "metadata": {},
   "outputs": [],
   "source": [
    "#~~~~~~~~~~~~~~~~~~~~~~~~~~~~~~~~~~~~~~~~~~#\n",
    "### Define parameters.\n",
    "#~~~~~~~~~~~~~~~~~~~~~~~~~~~~~~~~~~~~~~~~~~#\n",
    "\n",
    "## I/O parameters.\n",
    "stan_model = 'EA.stan'\n",
    "\n",
    "## Sampling parameters.\n",
    "samples = 4000\n",
    "warmup = 2000\n",
    "chains = 4\n",
    "thin = 1\n",
    "n_jobs = 4\n",
    "\n",
    "## Seed.\n",
    "seed = 0"
   ]
  },
  {
   "cell_type": "code",
   "execution_count": 5,
   "metadata": {},
   "outputs": [],
   "source": [
    "from numba import njit\n",
    "\n",
    "@njit\n",
    "def inv_logit(arr):\n",
    "    \"\"\"Fast inverse logistic function.\"\"\"\n",
    "    return 1. / (1. + np.exp(-arr))"
   ]
  },
  {
   "cell_type": "code",
   "execution_count": 14,
   "metadata": {},
   "outputs": [],
   "source": [
    "class EA(object):\n",
    "    \n",
    "    def __init__(self, b1, b2, eta1, eta2, w, p):\n",
    "        \n",
    "        ## Define parameters.\n",
    "        self.b1 = b1\n",
    "        self.b2 = b2\n",
    "        self.eta1 = eta1\n",
    "        self.eta2 = eta2\n",
    "        self.w = w\n",
    "        self.p = p\n",
    "        \n",
    "        ## Initialize Q-values.\n",
    "        self.Qs1 = None\n",
    "        self.Qs2 = None\n",
    "        \n",
    "    def train(self, drifts, reset=False):\n",
    "        \n",
    "        ## Error-catching: rewards.\n",
    "        ##drifts = np.array(drifts)\n",
    "        \n",
    "        ## Initialize Q-values.\n",
    "        if self.Qs1 is None or reset:\n",
    "            self.Qs1 = 0.5 * np.ones(2)\n",
    "        \n",
    "        if self.Qs2 is None or reset:\n",
    "            self.Qs2 = 0.5 * np.ones((2,2))\n",
    "            \n",
    "        ## Preallocate space.\n",
    "        n_trials = drifts.shape[0]    \n",
    "        Y1, Y2, S2, t, r = np.zeros((5,n_trials), dtype=int)\n",
    "            \n",
    "        for i in range(n_trials):\n",
    "\n",
    "            theta1 = inv_logit( self.b1 * (self.Qs1[1] - self.Qs1[0]))\n",
    "            \n",
    "            ## Stage 1: Simulate choice.\n",
    "            Y1[i] = np.random.binomial(1,theta1)\n",
    "            \n",
    "            ## Simulate transition.\n",
    "            t[i] = np.random.binomial(1, 0.7)\n",
    "            S2[i] = np.where(t[i], Y1[i], 1-Y1[i])\n",
    "                        \n",
    "            ## Stage 2: Compute choice likelihood.\n",
    "            theta2 = inv_logit( self.b2 * (self.Qs2[S2[i],1] - self.Qs2[S2[i],0]) )\n",
    "            \n",
    "            ## Stage 2: Simulate choice.\n",
    "            Y2[i] = np.random.binomial(1,theta2)\n",
    "            \n",
    "            ## Stage 2: Observe outcome.\n",
    "            #r[i] = R[i,S-1,Y[i,1]]\n",
    "            r[i] = np.random.binomial(1, drifts[i, S2[i], Y2[i]])\n",
    "            \n",
    "            ## Update stage 2 Q-values\n",
    "            self.Qs2[S2[i], Y2[i]] += self.eta2 * (r[i] - self.Qs2[S2[i], Y2[i]])\n",
    "            # where's eta1 in all this?\n",
    "            \n",
    "            if t[i]: cr = 0.7  # common transition\n",
    "            else: cr = 0.3     # rare transition\n",
    "            \n",
    "            ## Update Stage 1 Q-values\n",
    "            # Chosen action\n",
    "            deltaC = r[i] - self.Qs1[Y1[i]]\n",
    "            self.Qs1[Y1[i]] += self.eta1 * (self.w * cr * deltaC + (1 - self.w) * deltaC)\n",
    "            \n",
    "            # Unchosen action\n",
    "            deltaU = r[i] - self.Qs1[1 - Y1[i]]\n",
    "            self.Qs1[1-Y1[i]] += self.eta1 * self.w * (1-cr) * deltaU\n",
    "            \n",
    "        return Y1, Y2, S2, t, r"
   ]
  },
  {
   "cell_type": "code",
   "execution_count": 15,
   "metadata": {},
   "outputs": [],
   "source": [
    "from tqdm import tqdm"
   ]
  },
  {
   "cell_type": "code",
   "execution_count": 16,
   "metadata": {},
   "outputs": [],
   "source": [
    "import seaborn as sns\n",
    "sns.set('notebook', style='white', font='sans-serif', font_scale=1.33)"
   ]
  },
  {
   "cell_type": "code",
   "execution_count": 17,
   "metadata": {},
   "outputs": [
    {
     "name": "stderr",
     "output_type": "stream",
     "text": [
      "100%|██████████| 201/201 [00:01<00:00, 124.96it/s]\n"
     ]
    },
    {
     "data": {
      "image/png": "[encoded data removed]",
      "text/plain": [
       "<Figure size 432x288 with 1 Axes>"
      ]
     },
     "metadata": {},
     "output_type": "display_data"
    }
   ],
   "source": [
    "np.random.seed(47404)\n",
    "\n",
    "## Define reward parameters.\n",
    "drifts = read_csv('drifts.txt', header=None).values.reshape(-1,2,2)\n",
    "T = drifts.shape[0]\n",
    "\n",
    "data = []\n",
    "for _ in tqdm(range(T)):\n",
    "    \n",
    "    ## Simulate outcomes.\n",
    "    ##R = np.random.binomial(1, [[0.5,0.5],[0.5,0.5]], (200,2,2))\n",
    "    \n",
    "    ## Initialize agent.\n",
    "    agent = EA(b1 = 7.0, b2 = 7.0, eta1 = 0.5, eta2 = 0.5, w = 0.5, p = 0.2)\n",
    "\n",
    "    ## Train agent.\n",
    "    Y1, Y2, S2, t, r = agent.train(drifts)\n",
    "    \n",
    "    ## Define variables.\n",
    "    prev_R = np.roll(r, 1)[1:]\n",
    "    prev_T = np.roll(t, 1)[1:]\n",
    "    stay = Y1[:-1] == Y1[1:]\n",
    "    \n",
    "    ## Blah.\n",
    "    df = DataFrame(np.column_stack([prev_R, prev_T, stay]), columns=['prev_R', 'prev_T', 'Stay'])\n",
    "    data.append(df)\n",
    "    \n",
    "## Concatenate DataFrames.\n",
    "data = concat(data)\n",
    "data.prev_R = data.prev_R.replace({1:'rewarded',0:'unrewarded'})\n",
    "data.prev_T = data.prev_T.replace({1:'common',0:'uncommon'})\n",
    "\n",
    "ax = sns.barplot('prev_R', 'Stay', 'prev_T', data=data, order=['rewarded','unrewarded'], \n",
    "                 hue_order=['common','uncommon'])\n",
    "\n",
    "ax.set(xticklabels=['Common','Rare'], xlabel='Transition', ylabel='Stay')\n",
    "ax.legend(loc=10, bbox_to_anchor=(1.25,0.5), frameon=False, title='Reward')\n",
    "\n",
    "sns.despine()\n",
    "plt.tight_layout()"
   ]
  },
  {
   "cell_type": "code",
   "execution_count": 18,
   "metadata": {},
   "outputs": [
    {
     "name": "stderr",
     "output_type": "stream",
     "text": [
      "INFO:pystan:COMPILING THE C++ CODE FOR MODEL anon_model_bffbd421009e6eded8ba0311899b7864 NOW.\n"
     ]
    }
   ],
   "source": [
    "# NOTE: haven't run whole block yet!\n",
    "#~~~~~~~~~~~~~~~~~~~~~~~~~~~~~~~~~~~~~~~~~~#\n",
    "### Fit Stan Model.\n",
    "#~~~~~~~~~~~~~~~~~~~~~~~~~~~~~~~~~~~~~~~~~~#\n",
    "\n",
    "## Assemble data.\n",
    "dd = dict(T=T, Y1=Y1, Y2=Y2, O=S2, reward=r)\n",
    "   \n",
    "## Load StanModel\n",
    "StanModel = load_model(PATH_NAME)\n",
    "\n",
    "# .optimize -- MAP estimation"
   ]
  },
  {
   "cell_type": "code",
   "execution_count": 19,
   "metadata": {},
   "outputs": [
    {
     "data": {
      "text/plain": [
       "OrderedDict([('eta1_pr', array(-2.24641309)),\n",
       "             ('eta2_pr', array(-1.83046299)),\n",
       "             ('beta1_pr', array(-0.74586459)),\n",
       "             ('beta2_pr', array(-2.05972584)),\n",
       "             ('w_pr', array(-0.0255439)),\n",
       "             ('p_pr', array(-0.00045137)),\n",
       "             ('eta1', array(0.01226391)),\n",
       "             ('eta2', array(0.03366337)),\n",
       "             ('beta1', array(4.55566389)),\n",
       "             ('beta2', array(0.39401766)),\n",
       "             ('w', array(0.48979889)),\n",
       "             ('p', array(0.49981972)),\n",
       "             ('Y1_pd', array(0.498847)),\n",
       "             ('Y2_pd', array(0.49797388))])"
      ]
     },
     "execution_count": 19,
     "metadata": {},
     "output_type": "execute_result"
    }
   ],
   "source": [
    "StanModel.optimizing(data=dd)"
   ]
  },
  {
   "cell_type": "code",
   "execution_count": 20,
   "metadata": {},
   "outputs": [],
   "source": [
    "## Fit model.\n",
    "StanFit = StanModel.sampling(data=dd, iter=samples, warmup=warmup, chains=chains, thin=thin, n_jobs=n_jobs, seed=44404)"
   ]
  },
  {
   "cell_type": "code",
   "execution_count": 21,
   "metadata": {},
   "outputs": [
    {
     "name": "stdout",
     "output_type": "stream",
     "text": [
      "Inference for Stan model: anon_model_bffbd421009e6eded8ba0311899b7864.\n",
      "4 chains, each with iter=4000; warmup=2000; thin=1; \n",
      "post-warmup draws per chain=2000, total post-warmup draws=8000.\n",
      "\n",
      "           mean se_mean     sd   2.5%    25%    50%    75%  97.5%  n_eff   Rhat\n",
      "eta1_pr   -1.61    0.02    1.2  -3.25  -2.47  -1.96  -0.88   1.21   2796    1.0\n",
      "eta2_pr   -1.51    0.02    1.4  -3.56  -2.67  -1.74  -0.48   1.39   3187    1.0\n",
      "beta1_pr  -1.37    0.02   1.24  -3.29  -2.36  -1.54  -0.49   1.29   3004    1.0\n",
      "beta2_pr  -1.95    0.02   1.19   -3.6  -2.82  -2.28  -1.22   0.89   3040    1.0\n",
      "w_pr       0.16    0.01   1.01  -1.82  -0.51   0.17   0.83   2.08   5777    1.0\n",
      "p_pr       0.02    0.01   1.02  -1.97  -0.66   0.01   0.71   1.99   5948    1.0\n",
      "eta1       0.16  4.6e-3   0.25 4.9e-4 6.6e-3   0.02   0.19   0.89   2965    1.0\n",
      "eta2        0.2  4.6e-3   0.28 1.4e-4 3.7e-3   0.04   0.31   0.92   3600    1.0\n",
      "beta1      3.97    0.09   5.24 8.3e-3   0.18   1.24   6.22  18.04   3435    1.0\n",
      "beta2      2.27    0.07   4.23 2.3e-3   0.05   0.23   2.22  16.26   3288    1.0\n",
      "w          0.55  3.8e-3   0.29   0.03    0.3   0.57    0.8   0.98   5575    1.0\n",
      "p          0.51  3.7e-3   0.29   0.02   0.26   0.51   0.76   0.98   6090    1.0\n",
      "Y1_pd       0.5  2.1e-5 1.9e-3   0.49    0.5    0.5    0.5    0.5   7712    1.0\n",
      "Y2_pd       0.5  2.3e-5 2.1e-3   0.49    0.5    0.5    0.5    0.5   8666    1.0\n",
      "lp__     -289.6    0.03   1.76 -294.0 -290.5 -289.3 -288.3 -287.3   3177    1.0\n",
      "\n",
      "Samples were drawn using NUTS at Fri Jan 22 14:03:53 2021.\n",
      "For each parameter, n_eff is a crude measure of effective sample size,\n",
      "and Rhat is the potential scale reduction factor on split chains (at \n",
      "convergence, Rhat=1).\n"
     ]
    }
   ],
   "source": [
    "print(StanFit)"
   ]
  },
  {
   "cell_type": "code",
   "execution_count": null,
   "metadata": {},
   "outputs": [],
   "source": []
  },
  {
   "cell_type": "code",
   "execution_count": null,
   "metadata": {},
   "outputs": [],
   "source": []
  },
  {
   "cell_type": "code",
   "execution_count": null,
   "metadata": {},
   "outputs": [],
   "source": []
  },
  {
   "cell_type": "code",
   "execution_count": null,
   "metadata": {},
   "outputs": [],
   "source": []
  },
  {
   "cell_type": "code",
   "execution_count": null,
   "metadata": {},
   "outputs": [],
   "source": []
  }
 ],
 "metadata": {
  "kernelspec": {
   "display_name": "Python 3",
   "language": "python",
   "name": "python3"
  },
  "language_info": {
   "codemirror_mode": {
    "name": "ipython",
    "version": 3
   },
   "file_extension": ".py",
   "mimetype": "text/x-python",
   "name": "python",
   "nbconvert_exporter": "python",
   "pygments_lexer": "ipython3",
   "version": "3.7.4"
  }
 },
 "nbformat": 4,
 "nbformat_minor": 2
}
